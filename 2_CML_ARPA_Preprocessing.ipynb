{
 "cells": [
  {
   "cell_type": "code",
   "execution_count": 3,
   "id": "b310d040-23f6-4e38-b5b7-ddc3e8d4b741",
   "metadata": {
    "tags": []
   },
   "outputs": [],
   "source": [
    "import arpa_cleaning as ac\n",
    "import netatmo_cleaning as nc\n",
    "import numpy as np\n",
    "import os\n",
    "import folium\n",
    "import pandas as pd\n",
    "import geopandas as gpd\n",
    "import seaborn as sns\n",
    "from pathlib import Path\n",
    "import warnings\n",
    "import ipywidgets as widgets\n",
    "from IPython.display import display\n",
    "import datetime\n",
    "import matplotlib.pyplot as plt\n",
    "import matplotlib.dates as mdates\n",
    "from matplotlib.gridspec import GridSpec\n",
    "import matplotlib.ticker as mticker\n",
    "import plotly.graph_objects as go\n",
    "from sklearn.metrics import mean_squared_error\n",
    "pd.set_option('display.max_columns', None)"
   ]
  },
  {
   "cell_type": "code",
   "execution_count": 4,
   "id": "28ecf998-a3b9-4151-bf60-52c07073e1b2",
   "metadata": {
    "tags": []
   },
   "outputs": [],
   "source": [
    "%reload_ext autoreload"
   ]
  },
  {
   "cell_type": "markdown",
   "id": "d29e0ab3-32b3-4a92-bd4b-cc01c8d58f09",
   "metadata": {
    "jp-MarkdownHeadingCollapsed": true
   },
   "source": [
    "# ARPA Pre-processing"
   ]
  },
  {
   "cell_type": "markdown",
   "id": "55c7584f-2c18-459b-9872-e77b9dcb6ac6",
   "metadata": {},
   "source": [
    "Cleaning of ARPA stations, only removing -999 values and outliers based on z-scores. After, we create ARPA virtual station with mean and standard deviation values."
   ]
  },
  {
   "cell_type": "code",
   "execution_count": null,
   "id": "cd3cf164-faf2-420c-b688-4fd04ce8c337",
   "metadata": {
    "tags": []
   },
   "outputs": [],
   "source": [
    "ARPA_folder_path = '../ARPA/'"
   ]
  },
  {
   "cell_type": "code",
   "execution_count": null,
   "id": "fac66ca9-cbdf-4815-8f9f-94e9a976fae6",
   "metadata": {
    "tags": []
   },
   "outputs": [],
   "source": [
    "original_arpa_data = pd.read_parquet(ARPA_folder_path + 'ARPA_2022_CML_roi.parquet')"
   ]
  },
  {
   "cell_type": "code",
   "execution_count": null,
   "id": "ff47b958-6597-4838-be2f-905f8906ea59",
   "metadata": {
    "tags": []
   },
   "outputs": [],
   "source": [
    "(original_arpa_data['Medio'] == -999).any()\n",
    "(original_arpa_data['Medio'] == -999).sum()"
   ]
  },
  {
   "cell_type": "code",
   "execution_count": null,
   "id": "9348c88e-2831-43a5-9b8b-3b1a3aa04796",
   "metadata": {
    "tags": []
   },
   "outputs": [],
   "source": [
    "# Replace missing values (-999) as Nan\n",
    "original_arpa_data['Medio'] = original_arpa_data['Medio'].replace(-999, np.nan)"
   ]
  },
  {
   "cell_type": "code",
   "execution_count": null,
   "id": "702f20b2-33d5-4375-83bd-8a34306354a6",
   "metadata": {
    "tags": []
   },
   "outputs": [],
   "source": [
    "original_arpa_data"
   ]
  },
  {
   "cell_type": "code",
   "execution_count": null,
   "id": "aa3d3bb7-87b6-44d3-ab25-513d0d7df74a",
   "metadata": {
    "tags": []
   },
   "outputs": [],
   "source": [
    "original_arpa_data.isna().sum()"
   ]
  },
  {
   "cell_type": "code",
   "execution_count": null,
   "id": "fc1468da-219d-45ff-be3a-d140b178fdcb",
   "metadata": {
    "tags": []
   },
   "outputs": [],
   "source": [
    "unique_datetimes = original_arpa_data['Data-Ora'].nunique()\n",
    "print(f\"Unique datetime values: {unique_datetimes}\")"
   ]
  },
  {
   "cell_type": "code",
   "execution_count": null,
   "id": "abca7814-775a-4ab9-8420-c943973fd2e3",
   "metadata": {
    "tags": []
   },
   "outputs": [],
   "source": [
    "def remove_monthly_outliers(temp_df):\n",
    "    pd.set_option('mode.chained_assignment', None)\n",
    "\n",
    "    temp_df['Data-Ora'] = pd.to_datetime(temp_df['Data-Ora'])\n",
    "\n",
    "    # Add year and month columns\n",
    "    temp_df['year'] = temp_df['Data-Ora'].dt.year\n",
    "    temp_df['month'] = temp_df['Data-Ora'].dt.month\n",
    "\n",
    "    result = []\n",
    "\n",
    "    for (year, month), group in temp_df.groupby(['year', 'month']):\n",
    "        group = group.copy()\n",
    "        mean = group['Medio'].mean()\n",
    "        std = group['Medio'].std()\n",
    "        group['zscore'] = (group['Medio'] - mean) / std\n",
    "\n",
    "        # Mark outliers\n",
    "        mask_outlier = (group['zscore'] > 3) | (group['zscore'] < -3)\n",
    "\n",
    "        # Replace outliers in 'Medio' with NaN, keep the rest of the data\n",
    "        group.loc[mask_outlier, 'Medio'] = np.nan\n",
    "\n",
    "        result.append(group)\n",
    "\n",
    "    cleaned_full_year = pd.concat(result).sort_values(by='Data-Ora').reset_index(drop=True)\n",
    "\n",
    "    return cleaned_full_year"
   ]
  },
  {
   "cell_type": "code",
   "execution_count": null,
   "id": "66bbd12d-22bd-4131-8ac3-4440f8be898c",
   "metadata": {},
   "outputs": [],
   "source": [
    "cleaned_arpa = remove_monthly_outliers(original_arpa_data)"
   ]
  },
  {
   "cell_type": "code",
   "execution_count": null,
   "id": "d56b9ec6-4953-46c9-8ffc-3689735d7585",
   "metadata": {},
   "outputs": [],
   "source": [
    "cleaned_arpa"
   ]
  },
  {
   "cell_type": "code",
   "execution_count": null,
   "id": "aeac46b0-9f4d-49d0-9396-d15bc94a29cf",
   "metadata": {},
   "outputs": [],
   "source": [
    "cleaned_arpa.isna().sum()"
   ]
  },
  {
   "cell_type": "code",
   "execution_count": null,
   "id": "e987569b-685c-415f-a857-5bb898393ef6",
   "metadata": {},
   "outputs": [],
   "source": [
    "cleaned_arpa.sort_values(by='zscore', ascending=False).head(20)"
   ]
  },
  {
   "cell_type": "code",
   "execution_count": null,
   "id": "4f5f535e-ba0c-46ba-bfd1-00593377301e",
   "metadata": {},
   "outputs": [],
   "source": [
    "cleaned_arpa = cleaned_arpa.rename(columns={\n",
    "    'Data-Ora': 'Datetime',\n",
    "    'Medio': 'Temp',\n",
    "    'Id Sensore': 'Id'\n",
    "})\n",
    "\n",
    "cleaned_arpa = cleaned_arpa.drop(columns=['year', 'month'])"
   ]
  },
  {
   "cell_type": "code",
   "execution_count": null,
   "id": "dfc59bc2-596a-45c9-bc84-c5acde38bf23",
   "metadata": {},
   "outputs": [],
   "source": [
    "cleaned_arpa"
   ]
  },
  {
   "cell_type": "code",
   "execution_count": null,
   "id": "9666c14a-2e6b-4194-9a9e-30cbe607aa16",
   "metadata": {},
   "outputs": [],
   "source": [
    "# Export cleaned ARPA data to parquet\n",
    "cleaned_arpa.to_parquet(\"../ARPA/parquet/ARPA_2022_full/ARPA_2022_fullyear_cleaned.parquet\")"
   ]
  },
  {
   "cell_type": "markdown",
   "id": "c7857931-e935-4951-90b1-153a6e600b51",
   "metadata": {},
   "source": [
    "Create ARPA virtual station from loaded data"
   ]
  },
  {
   "cell_type": "code",
   "execution_count": null,
   "id": "ca7f9d6e-994f-42f8-8084-0e401530bbad",
   "metadata": {},
   "outputs": [],
   "source": [
    "# Ensure 'Data' is datetime\n",
    "cleaned_arpa['Datetime'] = pd.to_datetime(cleaned_arpa['Datetime'], errors='coerce')\n",
    "\n",
    "# Drop any rows with missing timestamps or values\n",
    "#ARPA_df = ARPA_df.dropna(subset=['Data-Ora', 'Medio'])\n",
    "\n",
    "# Group by timestamp and calculate both mean and standard deviation\n",
    "ARPA_virtual_station = cleaned_arpa.groupby('Datetime')['Temp'].agg(Temp_mean='mean', Temp_std='std').reset_index()\n",
    "\n",
    "# Show result\n",
    "print(f\"Virtual station shape: {ARPA_virtual_station.shape}\")\n",
    "print(ARPA_virtual_station.head())"
   ]
  },
  {
   "cell_type": "code",
   "execution_count": null,
   "id": "54f97fde-80a5-4511-8452-0c623f73e273",
   "metadata": {},
   "outputs": [],
   "source": [
    "ARPA_virtual_station"
   ]
  },
  {
   "cell_type": "code",
   "execution_count": null,
   "id": "8b39ad04-990f-44e3-8b8a-7a942239ae5d",
   "metadata": {},
   "outputs": [],
   "source": [
    "ARPA_virtual_station.to_parquet(\"../ARPA/parquet/ARPA_2022_full/ARPA_virtual_station_2022.parquet\")"
   ]
  },
  {
   "cell_type": "markdown",
   "id": "f4186303-d2f8-41f0-946c-844e81619bf8",
   "metadata": {
    "jp-MarkdownHeadingCollapsed": true
   },
   "source": [
    "# CML Pre-processing"
   ]
  },
  {
   "cell_type": "markdown",
   "id": "a93d8ef4-ee6c-4931-8f24-f6af8e3190ba",
   "metadata": {
    "jp-MarkdownHeadingCollapsed": true
   },
   "source": [
    "## Initial pre-processing\n",
    "\n",
    "The first part of the code does some checks and preparation of CML data, such as filling in the missing datetime values for consistency. It removes unrealistic values (above 50 °C and below -20 °C). Also, we calculate the percentage of missing data per station. \n",
    "After that, we create two dfs, one of stations at 5-min intervals and another of stations at 1-min intervals."
   ]
  },
  {
   "cell_type": "code",
   "execution_count": null,
   "id": "36569f97-110a-4341-a21a-2160eb403f27",
   "metadata": {},
   "outputs": [],
   "source": [
    "# Here we just check the number of rows which have values above 50 °C and below -20 °C (per station). This step is repeated in the next cell of this code within one larger cleaning pipeline.\n",
    "\n",
    "folder_path = Path('./CML_txt_export/')\n",
    "all_files = list(folder_path.glob(\"*.csv\"))\n",
    "\n",
    "for file in all_files:\n",
    "    try:\n",
    "        df = pd.read_csv(file)\n",
    "        station_name = file.stem\n",
    "\n",
    "        # Replace '---' with NaN and convert to numeric\n",
    "        df['Temp'] = pd.to_numeric(df['Temp'].replace('---', pd.NA), errors='coerce')\n",
    "\n",
    "        # Drop missing values before counting\n",
    "        df = df.dropna(subset=['Temp'])\n",
    "\n",
    "        count_before = len(df)\n",
    "\n",
    "        # Identify out-of-range values (sensor errors)\n",
    "        sensor_issue_mask = (df['Temp'] < -20) | (df['Temp'] > 50)\n",
    "        sensor_issues = df[sensor_issue_mask]\n",
    "        count_removed = sensor_issues.shape[0]\n",
    "\n",
    "        # Remove out-of-range values\n",
    "        df = df[~sensor_issue_mask]\n",
    "        count_after = len(df)\n",
    "\n",
    "        print(f\"{station_name}: {count_before} → {count_after} (removed {count_removed} rows (below -20 °C and above 50 °C))\")\n",
    "\n",
    "    except Exception as e:\n",
    "        print(f\"Error in {file.name}: {e}\")"
   ]
  },
  {
   "cell_type": "markdown",
   "id": "97c37650-b82f-4ea5-9491-b23123aee685",
   "metadata": {},
   "source": [
    "**Total number of rows removed which are below -20 °C and above 50 °C across all sensors is: 36.**"
   ]
  },
  {
   "cell_type": "code",
   "execution_count": null,
   "id": "708c4434-26d0-4c99-a9e7-825cb029d779",
   "metadata": {},
   "outputs": [],
   "source": [
    "folder_path = Path('./CML_txt_export/')\n",
    "one_min_stations = ['mi_sansiro', 'rovagnasco', 'sedriano']"
   ]
  },
  {
   "cell_type": "code",
   "execution_count": null,
   "id": "cf003010-2b9b-41b5-ab8e-7d5057695239",
   "metadata": {},
   "outputs": [],
   "source": [
    "# Function to do initial preprocessing\n",
    "\n",
    "dfs_5min, dfs_1min = [], []\n",
    "inserted_counts_5min = {}\n",
    "inserted_counts_1min = {}\n",
    "\n",
    "nan_percentage_5min = {}  # To store NaN percentage for 5-min data\n",
    "nan_percentage_1min = {}  # To store NaN percentage for 1-min data\n",
    "\n",
    "total_rows_5min = {}\n",
    "total_rows_1min = {}\n",
    "\n",
    "def clean_and_fill(df, station_name, freq):\n",
    "    # Replace '---' with NaN and convert Temp\n",
    "    df.replace('---', np.nan, inplace=True)\n",
    "    df['Temp'] = pd.to_numeric(df['Temp'], errors='coerce')\n",
    "\n",
    "    # Count NaNs BEFORE anything else\n",
    "    original_nans = df['Temp'].isna().sum()\n",
    "\n",
    "    # Drop unrealistic values\n",
    "    df['Temp'] = df['Temp'].mask((df['Temp'] < -20) | (df['Temp'] > 50))\n",
    "\n",
    "    # Count how many were masked\n",
    "    masked_nans = df['Temp'].isna().sum() - original_nans\n",
    "    \n",
    "    # Parse datetime\n",
    "    df['Datetime'] = pd.to_datetime(df['Datetime'], errors='coerce')\n",
    "    df = df.dropna(subset=['Datetime'])\n",
    "\n",
    "    # Drop duplicates and sort\n",
    "    df = df.sort_values('Datetime').drop_duplicates('Datetime')\n",
    "\n",
    "    # Count how many were masked\n",
    "    masked_nans = df['Temp'].isna().sum() - original_nans\n",
    "\n",
    "    # DST Fixes\n",
    "    march_27 = pd.Timestamp(\"2022-03-27\")\n",
    "    march_shift_mask = (\n",
    "        (df['Datetime'].dt.date == march_27.date()) &\n",
    "        (df['Datetime'].dt.hour == 3)\n",
    "    )\n",
    "    df.loc[march_shift_mask, 'Datetime'] -= pd.Timedelta(hours=1)\n",
    "\n",
    "    after_march_mask = df['Datetime'] > pd.Timestamp(\"2022-03-27 03:59:59\")\n",
    "    df.loc[after_march_mask, 'Datetime'] -= pd.Timedelta(hours=1)\n",
    "\n",
    "    df.loc[df['Datetime'] > pd.Timestamp(\"2022-10-30 02:59:59\"), 'Datetime'] += pd.Timedelta(hours=1)\n",
    "\n",
    "    df = df.sort_values('Datetime').drop_duplicates('Datetime')\n",
    "\n",
    "    # Define date range\n",
    "    if freq == '5min':\n",
    "        start = pd.Timestamp('2022-01-01 00:05')\n",
    "    elif freq == '1min':\n",
    "        start = pd.Timestamp('2022-01-01 00:01')\n",
    "    else:\n",
    "        raise ValueError(f\"Unsupported frequency: {freq}\")\n",
    "\n",
    "    end = pd.Timestamp('2023-01-01 00:00')\n",
    "    full_index = pd.date_range(start=start, end=end, freq=freq)\n",
    "\n",
    "    # Reindex (inserting new NaNs)\n",
    "    df = df.set_index('Datetime')\n",
    "    df = df.reindex(full_index)\n",
    "\n",
    "    # Count NaNs after reindex (original + inserted)\n",
    "    total_nans = df['Temp'].isna().sum()\n",
    "    final_nans = total_nans - masked_nans\n",
    "\n",
    "    # Save to correct dictionary\n",
    "    if freq == '1min':\n",
    "        inserted_counts_1min[station_name] = final_nans\n",
    "        total_rows_1min[station_name] = len(df)\n",
    "        nan_percentage_1min[station_name] = (final_nans / len(df)) * 100\n",
    "    else:\n",
    "        inserted_counts_5min[station_name] = final_nans\n",
    "        total_rows_5min[station_name] = len(df)\n",
    "        nan_percentage_5min[station_name] = (final_nans / len(df)) * 100\n",
    "\n",
    "    # Finalize\n",
    "    df = df[['Temp']].reset_index()\n",
    "    df.rename(columns={'index': 'Datetime'}, inplace=True)\n",
    "    df['station'] = station_name\n",
    "\n",
    "    return df, final_nans"
   ]
  },
  {
   "cell_type": "code",
   "execution_count": null,
   "id": "0f7a3eea-5f52-4c17-ade9-c9f25c71e849",
   "metadata": {},
   "outputs": [],
   "source": [
    "# Processing loop for all CSV files\n",
    "for file in folder_path.glob(\"*.csv\"):\n",
    "    station_name = file.stem.lower()  # station name from filename\n",
    "    freq = '1min' if station_name in one_min_stations else '5min'\n",
    "\n",
    "    try:\n",
    "        df = pd.read_csv(file)\n",
    "        cleaned_df, inserted = clean_and_fill(df, station_name, freq)\n",
    "\n",
    "        if freq == '1min':\n",
    "            dfs_1min.append(cleaned_df)\n",
    "            inserted_counts_1min[station_name] = inserted\n",
    "        else:\n",
    "            dfs_5min.append(cleaned_df)\n",
    "            inserted_counts_5min[station_name] = inserted\n",
    "    except Exception as e:\n",
    "        print(f\"Error processing {station_name}: {e}\")\n",
    "\n",
    "# Concatenate all cleaned dataframes\n",
    "df_all_5min = pd.concat(dfs_5min, ignore_index=True)\n",
    "df_all_1min = pd.concat(dfs_1min, ignore_index=True)"
   ]
  },
  {
   "cell_type": "code",
   "execution_count": null,
   "id": "771d515b-cf7a-46a7-a611-453ab4e00190",
   "metadata": {},
   "outputs": [],
   "source": [
    "# Build summary tables\n",
    "summary_5min = pd.DataFrame([\n",
    "    {\n",
    "        'Station': s,\n",
    "        'NaN Percentage': nan_percentage_5min[s],\n",
    "        'Total NaNs': inserted_counts_5min[s],\n",
    "        'Total Rows': total_rows_5min[s]\n",
    "    }\n",
    "    for s in inserted_counts_5min\n",
    "]).sort_values(by='NaN Percentage', ascending=False)\n",
    "\n",
    "summary_1min = pd.DataFrame([\n",
    "    {\n",
    "        'Station': s,\n",
    "        'NaN Percentage': nan_percentage_1min[s],\n",
    "        'Total NaNs': inserted_counts_1min[s],\n",
    "        'Total Rows': total_rows_1min[s]\n",
    "    }\n",
    "    for s in inserted_counts_1min\n",
    "]).sort_values(by='NaN Percentage', ascending=False)\n",
    "\n",
    "print(\"Summary for 5-min:\")\n",
    "print(summary_5min)\n",
    "\n",
    "print(\"\\nSummary for 1-min:\")\n",
    "print(summary_1min)\n",
    "\n",
    "# Overall totals\n",
    "total_missing_5min = sum(inserted_counts_5min.values())\n",
    "total_rows_all_5min = sum(total_rows_5min.values())\n",
    "total_nan_pct_5min = (total_missing_5min / total_rows_all_5min) * 100\n",
    "\n",
    "total_missing_1min = sum(inserted_counts_1min.values())\n",
    "total_rows_all_1min = sum(total_rows_1min.values())\n",
    "total_nan_pct_1min = (total_missing_1min / total_rows_all_1min) * 100\n",
    "\n",
    "print(\"\\n--- Overall Missing Data Summary ---\")\n",
    "print(f\"5-min → Total Missing: {int(total_missing_5min):,} / {total_rows_all_5min:,} \"\n",
    "      f\"({total_nan_pct_5min:.2f}% missing)\")\n",
    "\n",
    "print(f\"1-min → Total Missing: {int(total_missing_1min):,} / {total_rows_all_1min:,} \"\n",
    "      f\"({total_nan_pct_1min:.2f}% missing)\")"
   ]
  },
  {
   "cell_type": "markdown",
   "id": "1047e7cc-1b61-49c9-a0eb-9e27ef1562a0",
   "metadata": {},
   "source": [
    "Missing data here is the result of changing '---' to NaN or inserting where we inserted rows due to missing Datetime."
   ]
  },
  {
   "cell_type": "code",
   "execution_count": null,
   "id": "1e735b94-099d-415f-942d-ecee6f99d830",
   "metadata": {},
   "outputs": [],
   "source": [
    "print(df_all_5min)"
   ]
  },
  {
   "cell_type": "code",
   "execution_count": null,
   "id": "af4afb9b-89b5-4500-b093-eff58a8dcf00",
   "metadata": {},
   "outputs": [],
   "source": [
    "df_all_5min, df_all_1min"
   ]
  },
  {
   "cell_type": "code",
   "execution_count": null,
   "id": "f0b57cb5-c774-4da0-9a83-44aa9352a68b",
   "metadata": {},
   "outputs": [],
   "source": [
    "# It's a large dataset, let's export it to parquet file for faster loading later\n",
    "df_all_5min.to_parquet(\"./CML_txt_export/CML_5min_not_cleaned.parquet\")\n",
    "df_all_1min.to_parquet(\"./CML_txt_export/CML_1min_not_cleaned.parquet\")"
   ]
  },
  {
   "cell_type": "code",
   "execution_count": null,
   "id": "02e81380-b929-4348-8016-3cfbc8439ecf",
   "metadata": {},
   "outputs": [],
   "source": [
    "unique_datetimes = df_all_5min['Datetime'].nunique()\n",
    "print(f\"Unique datetime values: {unique_datetimes}\")"
   ]
  },
  {
   "cell_type": "code",
   "execution_count": null,
   "id": "f53fbbb6-179f-4b02-ae7b-9dc511a46252",
   "metadata": {},
   "outputs": [],
   "source": [
    "num_stations = df_all_1min['station'].nunique()\n",
    "print(f\"Number of stations in df: {num_stations}\")"
   ]
  },
  {
   "cell_type": "markdown",
   "id": "500704c6-8a2d-4c7d-97a4-4bbe0fe50183",
   "metadata": {
    "jp-MarkdownHeadingCollapsed": true
   },
   "source": [
    "## Plotting part\n",
    "\n",
    "Aggregate 5-min and 1-min intervals into new dfs at 10-min intervals and create interactive plotting to compare ARPA and CML visually."
   ]
  },
  {
   "cell_type": "code",
   "execution_count": null,
   "id": "baea2d12-f472-4fc5-b598-2058929dcb18",
   "metadata": {
    "tags": []
   },
   "outputs": [],
   "source": [
    "# Load parquet files\n",
    "df_5min = pd.read_parquet(\"./CML_txt_export/CML_5min_not_cleaned.parquet\")\n",
    "df_1min = pd.read_parquet(\"./CML_txt_export/CML_1min_not_cleaned.parquet\")\n",
    "\n",
    "df_5min['Datetime'] = pd.to_datetime(df_5min['Datetime'])  # ensure it's datetime\n",
    "df_1min['Datetime'] = pd.to_datetime(df_1min['Datetime'])  # ensure it's datetime\n",
    "\n",
    "#df_5min.set_index('Datetime', inplace=True)\n",
    "#df_1min.set_index('Datetime', inplace=True)"
   ]
  },
  {
   "cell_type": "code",
   "execution_count": null,
   "id": "add5527b-696b-4bd4-99e6-feed64e2376a",
   "metadata": {
    "tags": []
   },
   "outputs": [],
   "source": [
    "df_5min, df_1min"
   ]
  },
  {
   "cell_type": "code",
   "execution_count": null,
   "id": "049d92ae-ad12-4d90-a783-9c5859becf0e",
   "metadata": {
    "tags": []
   },
   "outputs": [],
   "source": [
    "# Here we merge 5_min and 1_min data and create a new df to hold values for all 63 stations at 10-min interval that fit ARPA\n",
    "\n",
    "def average_chunks_fast(df, chunk_size):\n",
    "    results = []\n",
    "    for station, group in df.groupby('station'):\n",
    "        group = group.sort_values('Datetime').reset_index(drop=True)\n",
    "        n_chunks = len(group) // chunk_size\n",
    "        if n_chunks == 0:\n",
    "            continue\n",
    "        truncated = group.iloc[:n_chunks * chunk_size]\n",
    "        reshaped = truncated['Temp'].values.reshape(-1, chunk_size)\n",
    "        \n",
    "        # Suppress only the specific runtime warning\n",
    "        with warnings.catch_warnings():\n",
    "            warnings.simplefilter(\"ignore\", category=RuntimeWarning)\n",
    "            mean_temps = np.nanmean(reshaped, axis=1)\n",
    "\n",
    "        timestamps = truncated['Datetime'].values.reshape(-1, chunk_size)[:, 0]\n",
    "        timestamps = pd.to_datetime(timestamps).floor('10T')\n",
    "\n",
    "        result_df = pd.DataFrame({\n",
    "            'Datetime': timestamps,\n",
    "            'Temp': mean_temps,\n",
    "            'station': station\n",
    "        })\n",
    "        results.append(result_df)\n",
    "    return pd.concat(results, ignore_index=True)\n",
    "\n",
    "df_5min_avg = average_chunks_fast(df_5min, chunk_size=2)\n",
    "df_1min_avg = average_chunks_fast(df_1min, chunk_size=10)\n",
    "df_10min = pd.concat([df_5min_avg, df_1min_avg]).sort_values(['station', 'Datetime']).reset_index(drop=True)"
   ]
  },
  {
   "cell_type": "code",
   "execution_count": null,
   "id": "f94f1b19-e1d5-4d8a-9193-7261f7bc399e",
   "metadata": {},
   "outputs": [],
   "source": [
    "df_10min"
   ]
  },
  {
   "cell_type": "code",
   "execution_count": null,
   "id": "9c9bef97-dfea-4ba3-aaf7-904a5ab95dc2",
   "metadata": {
    "tags": []
   },
   "outputs": [],
   "source": [
    "# Create CML virtual station by averaging across all stations for each timestamp\n",
    "# Create CML virtual station by averaging across all stations for each timestamp\n",
    "cml_virtual_station = df_10min.groupby('Datetime')['Temp'].agg(Temp_mean='mean', Temp_std='std').reset_index()\n",
    "cml_virtual_station['station'] = 'CML_Virtual'"
   ]
  },
  {
   "cell_type": "code",
   "execution_count": null,
   "id": "48238e05-86be-4e46-98ca-55e90425eae0",
   "metadata": {
    "tags": []
   },
   "outputs": [],
   "source": [
    "cml_virtual_station"
   ]
  },
  {
   "cell_type": "code",
   "execution_count": null,
   "id": "087d5ebc-c7e9-41d1-84f0-64d5800a756e",
   "metadata": {},
   "outputs": [],
   "source": [
    "cml_virtual_station = cml_virtual_station.sort_values('Datetime').reset_index(drop=True)\n",
    "\n",
    "# Shift up by 1\n",
    "cml_virtual_station['Temp_mean'] = cml_virtual_station['Temp_mean'].shift(-1)\n",
    "cml_virtual_station['Temp_std'] = cml_virtual_station['Temp_std'].shift(-1)"
   ]
  },
  {
   "cell_type": "code",
   "execution_count": null,
   "id": "7997618a-8cf1-4c28-9f6e-c37778a7d649",
   "metadata": {},
   "outputs": [],
   "source": [
    "cml_virtual_station"
   ]
  },
  {
   "cell_type": "code",
   "execution_count": null,
   "id": "94e4d839-125a-4590-8635-a08e51042101",
   "metadata": {
    "tags": []
   },
   "outputs": [],
   "source": [
    "# Create dropdowns for station and month selection\n",
    "station_dropdown = widgets.Dropdown(\n",
    "    options=sorted(df_10min['station'].unique()),\n",
    "    description='station:',\n",
    "    style={'description_width': 'initial'},\n",
    "    layout=widgets.Layout(width='50%')\n",
    ")\n",
    "\n",
    "month_dropdown = widgets.Dropdown(\n",
    "    options=[('All', 'all')] + [(str(i), i) for i in range(1, 13)],\n",
    "    description='Month:',\n",
    "    style={'description_width': 'initial'},\n",
    "    layout=widgets.Layout(width='50%')\n",
    ")\n",
    "\n",
    "day_dropdown = widgets.Dropdown(\n",
    "    options=[('All', 'all')] + [(str(i), i) for i in range(1, 32)],\n",
    "    description='Day:',\n",
    "    style={'description_width': 'initial'},\n",
    "    layout=widgets.Layout(width='50%')\n",
    ")"
   ]
  },
  {
   "cell_type": "code",
   "execution_count": null,
   "id": "0ef74917-1606-4570-89b3-641ff8fd54e0",
   "metadata": {
    "tags": []
   },
   "outputs": [],
   "source": [
    "def plot_virtual_comparison(month, day):\n",
    "    # Load and filter ARPA data\n",
    "    arpa_filtered = pd.read_parquet(\"../ARPA/parquet/ARPA_2022_full/ARPA_virtual_station_2022.parquet\")\n",
    "    arpa_filtered = arpa_filtered[arpa_filtered['Datetime'].dt.year == 2022]\n",
    "\n",
    "    # Use your precomputed CML virtual station DataFrame\n",
    "    cml_virtual = cml_virtual_station[cml_virtual_station['Datetime'].dt.year == 2022]\n",
    "\n",
    "    # Filter by month\n",
    "    if month != 'all':\n",
    "        arpa_filtered = arpa_filtered[arpa_filtered['Datetime'].dt.month == month]\n",
    "        cml_virtual = cml_virtual[cml_virtual['Datetime'].dt.month == month]\n",
    "\n",
    "    # Filter by day\n",
    "    if day != 'all':\n",
    "        arpa_filtered = arpa_filtered[arpa_filtered['Datetime'].dt.day == day]\n",
    "        cml_virtual = cml_virtual[cml_virtual['Datetime'].dt.day == day]\n",
    "\n",
    "    # Drop NaNs\n",
    "    cml_virtual = cml_virtual.dropna(subset=['Temp_mean', 'Temp_std', 'Datetime'])\n",
    "    arpa_filtered = arpa_filtered.dropna(subset=['Temp_mean', 'Temp_std', 'Datetime'])\n",
    "\n",
    "    if cml_virtual.empty and arpa_filtered.empty:\n",
    "        print(\"No data available for this selection.\")\n",
    "        return\n",
    "\n",
    "    # Plotting\n",
    "    plt.figure(figsize=(15, 4))\n",
    "\n",
    "    # Plot CML virtual\n",
    "    plt.plot(cml_virtual['Datetime'], cml_virtual['Temp_mean'], color='tab:blue', marker='.', linestyle='-', markersize=1.5, label='CML Virtual Temp')\n",
    "\n",
    "    # Plot ARPA virtual\n",
    "    plt.plot(arpa_filtered['Datetime'], arpa_filtered['Temp_mean'], color='tab:orange', marker='.', linestyle='-', markersize=1.5, label='ARPA Virtual Temp')\n",
    "\n",
    "    # Plot ARPA std deviation shading\n",
    "    plt.fill_between(arpa_filtered['Datetime'],\n",
    "                     arpa_filtered['Temp_mean'] - 3 * arpa_filtered['Temp_std'],\n",
    "                     arpa_filtered['Temp_mean'] + 3 * arpa_filtered['Temp_std'],\n",
    "                     color='tab:orange', alpha=0.3, label='ARPA ±3 STD')\n",
    "\n",
    "    # Plot CML std deviation shading\n",
    "    plt.fill_between(cml_virtual['Datetime'],\n",
    "                     cml_virtual['Temp_mean'] - 3 * cml_virtual['Temp_std'],\n",
    "                     cml_virtual['Temp_mean'] + 3 * cml_virtual['Temp_std'],\n",
    "                     color='tab:blue', alpha=0.3, label='CML ±3 STD')\n",
    "\n",
    "    # Title\n",
    "    title = \"CML Virtual vs ARPA Virtual - \"\n",
    "    if month == 'all':\n",
    "        title += \"Full Year 2022\"\n",
    "    elif day == 'all':\n",
    "        title += f\"Month {month} (2022)\"\n",
    "    else:\n",
    "        title += f\"{month}/{day}/2022\"\n",
    "    plt.title(title)\n",
    "    plt.xlabel(\"Datetime\")\n",
    "    plt.ylabel(\"Temperature [°C]\")\n",
    "    plt.grid(True)\n",
    "\n",
    "    # X-axis formatting\n",
    "    ax = plt.gca()\n",
    "    if month == 'all':\n",
    "        ax.xaxis.set_major_locator(mdates.MonthLocator())\n",
    "        ax.xaxis.set_major_formatter(mdates.DateFormatter('%b'))\n",
    "    elif day == 'all':\n",
    "        ax.xaxis.set_major_locator(mdates.DayLocator(interval=2))\n",
    "        ax.xaxis.set_major_formatter(mdates.DateFormatter('%d %b'))\n",
    "    else:\n",
    "        ax.xaxis.set_major_locator(mdates.HourLocator(interval=2))\n",
    "        ax.xaxis.set_major_formatter(mdates.DateFormatter('%H:%M'))\n",
    "\n",
    "    plt.xticks(rotation=45)\n",
    "    plt.legend()\n",
    "    plt.tight_layout()\n",
    "    plt.show()\n",
    "\n",
    "# Run interactive widget for virtual comparison\n",
    "widgets.interact(plot_virtual_comparison, month=month_dropdown, day=day_dropdown)"
   ]
  },
  {
   "cell_type": "code",
   "execution_count": null,
   "id": "abe61564-4e9a-475f-8de8-9356115d032b",
   "metadata": {
    "tags": []
   },
   "outputs": [],
   "source": [
    "# Plotting function\n",
    "def plot_station_month_day(station, month, day):\n",
    "    # Copy and filter df_all_10min\n",
    "    df = df_10min.copy()\n",
    "    df_filtered = df[df['station'] == station]\n",
    "    df_filtered = df_filtered[df_filtered['Datetime'].dt.year == 2022]\n",
    "\n",
    "    # Filter ARPA data\n",
    "    arpa_filtered = pd.read_parquet(\"../ARPA/parquet/ARPA_2022_full/ARPA_virtual_station_2022.parquet\")\n",
    "    arpa_filtered = arpa_filtered[arpa_filtered['Datetime'].dt.year == 2022]\n",
    "\n",
    "    # Filter by month\n",
    "    if month != 'all':\n",
    "        df_filtered = df_filtered[df_filtered['Datetime'].dt.month == month]\n",
    "        arpa_filtered = arpa_filtered[arpa_filtered['Datetime'].dt.month == month]\n",
    "\n",
    "    # Filter by day\n",
    "    if day != 'all':\n",
    "        df_filtered = df_filtered[df_filtered['Datetime'].dt.day == day]\n",
    "        arpa_filtered = arpa_filtered[arpa_filtered['Datetime'].dt.day == day]\n",
    "\n",
    "    # Drop NaNs\n",
    "    df_filtered = df_filtered.dropna(subset=['Temp', 'Datetime'])\n",
    "    arpa_filtered = arpa_filtered.dropna(subset=['Temp_mean', 'Temp_std', 'Datetime'])\n",
    "\n",
    "    if df_filtered.empty and arpa_filtered.empty:\n",
    "        print(\"No data available for this selection.\")\n",
    "        return\n",
    "\n",
    "    # Plotting\n",
    "    plt.figure(figsize=(15, 4))\n",
    "\n",
    "    # Plot selected station\n",
    "    plt.plot(df_filtered['Datetime'], df_filtered['Temp'], color='tab:blue', marker='.', linestyle='-', markersize=1.5, label=f'{station} Temp')\n",
    "\n",
    "    # Plot ARPA mean\n",
    "    plt.plot(arpa_filtered['Datetime'], arpa_filtered['Temp_mean'], color='tab:orange', marker='.', linestyle='-', markersize=1.5, label='ARPA Temp')\n",
    "\n",
    "    # Plot std deviation shading\n",
    "    plt.fill_between(arpa_filtered['Datetime'],\n",
    "                     arpa_filtered['Temp_mean'] - 3 * arpa_filtered['Temp_std'],\n",
    "                     arpa_filtered['Temp_mean'] + 3 * arpa_filtered['Temp_std'],\n",
    "                     color='tab:orange', alpha=0.3, label='ARPA ±3 STD')\n",
    "\n",
    "    # Title\n",
    "    title = f\"Temperature at {station} vs ARPA - \"\n",
    "    if month == 'all':\n",
    "        title += \"Full Year 2022\"\n",
    "    elif day == 'all':\n",
    "        title += f\"Month {month} (2022)\"\n",
    "    else:\n",
    "        title += f\"{month}/{day}/2022\"\n",
    "    plt.title(title)\n",
    "    plt.xlabel(\"Datetime\")\n",
    "    plt.ylabel(\"Temperature [°C]\")\n",
    "    plt.grid(True)\n",
    "\n",
    "    # X-axis formatting\n",
    "    ax = plt.gca()\n",
    "    if month == 'all':\n",
    "        ax.xaxis.set_major_locator(mdates.MonthLocator())\n",
    "        ax.xaxis.set_major_formatter(mdates.DateFormatter('%b'))\n",
    "    elif day == 'all':\n",
    "        ax.xaxis.set_major_locator(mdates.DayLocator(interval=2))\n",
    "        ax.xaxis.set_major_formatter(mdates.DateFormatter('%d %b'))\n",
    "    else:\n",
    "        ax.xaxis.set_major_locator(mdates.HourLocator(interval=2))\n",
    "        ax.xaxis.set_major_formatter(mdates.DateFormatter('%H:%M'))\n",
    "\n",
    "    plt.xticks(rotation=45)\n",
    "    plt.legend()\n",
    "    plt.tight_layout()\n",
    "    plt.show()\n",
    "\n",
    "# Run interactive widget\n",
    "widgets.interact(plot_station_month_day, station=station_dropdown, month=month_dropdown, day=day_dropdown)"
   ]
  },
  {
   "cell_type": "markdown",
   "id": "cf3bcd34-cfba-4066-93e5-b8f2f2ec65aa",
   "metadata": {},
   "source": [
    "<span style=\"color:red; font-weight:bold\">After reviewing CML and ARPA stations, only Casarile showed some issues, specifically a shift between observations. We are going to remove the periods affected for that station and export dataframe at 10 min.</span>"
   ]
  },
  {
   "cell_type": "code",
   "execution_count": null,
   "id": "d5fab65a-2488-4058-9705-716b179e7978",
   "metadata": {},
   "outputs": [],
   "source": [
    "df_10min.loc[\n",
    "    (df_10min['station'] == 'casarile') &\n",
    "    (\n",
    "        df_10min['Datetime'].between('2022-01-01', '2022-06-03') |\n",
    "        df_10min['Datetime'].between('2022-07-25', '2022-07-28')\n",
    "    ),\n",
    "    'Temp'\n",
    "] = np.nan"
   ]
  },
  {
   "cell_type": "code",
   "execution_count": null,
   "id": "4b5ee6ed-3063-4499-920d-f3ed8cc2a27e",
   "metadata": {},
   "outputs": [],
   "source": [
    "# Check if it removed correctly\n",
    "print(df_10min[df_10min['station'] == 'casarile'].head(20))"
   ]
  },
  {
   "cell_type": "code",
   "execution_count": null,
   "id": "a4b60482-a81f-4bdc-a9fe-278d96143a26",
   "metadata": {},
   "outputs": [],
   "source": [
    "# Export 10 min df\n",
    "df_10min.to_parquet(\"./CML_txt_export/CML_allstations_10min_notcleaned.parquet\")"
   ]
  },
  {
   "cell_type": "markdown",
   "id": "74d572af-7e3e-491c-a708-641f1aac9a77",
   "metadata": {
    "jp-MarkdownHeadingCollapsed": true
   },
   "source": [
    "## Time-series correlation with ARPA"
   ]
  },
  {
   "cell_type": "markdown",
   "id": "9b3e9ba2-23a7-43e9-b5b2-a78b83214f9a",
   "metadata": {},
   "source": [
    "Here we calculate Pearson correlation coefficient between each CML station and ARPA virtual station at 10-min intervals."
   ]
  },
  {
   "cell_type": "code",
   "execution_count": null,
   "id": "54be9549-329a-454e-996c-9edbf8640c60",
   "metadata": {},
   "outputs": [],
   "source": [
    "arpa_VS = pd.read_parquet(\"../ARPA/parquet/ARPA_2022_full/ARPA_virtual_station_2022.parquet\")\n",
    "CML_10min = pd.read_parquet(\"./CML_txt_export/CML_allstations_10min_notcleaned.parquet\")"
   ]
  },
  {
   "cell_type": "code",
   "execution_count": null,
   "id": "482744c2-7a0a-4399-b05d-9278092546b4",
   "metadata": {},
   "outputs": [],
   "source": [
    "CML_10min"
   ]
  },
  {
   "cell_type": "code",
   "execution_count": null,
   "id": "d7012bbb-3d51-4b73-816f-7cb7037c7284",
   "metadata": {},
   "outputs": [],
   "source": [
    "arpa_VS"
   ]
  },
  {
   "cell_type": "code",
   "execution_count": null,
   "id": "08e09a9a-8786-42bf-a673-f75af0f85042",
   "metadata": {},
   "outputs": [],
   "source": [
    "# Step 1: Check index types and convert to datetime if needed\n",
    "CML_10min['Datetime'] = pd.to_datetime(CML_10min['Datetime'])\n",
    "CML_10min = CML_10min.set_index('Datetime')\n",
    "\n",
    "arpa_VS['Datetime'] = pd.to_datetime(arpa_VS['Datetime'])  # Replace with actual column name\n",
    "arpa_VS = arpa_VS.set_index('Datetime')\n",
    "\n",
    "# Step 2: Sort and confirm ranges\n",
    "print(\"ARPA:\", arpa_VS.index.min(), \"to\", arpa_VS.index.max())\n",
    "print(\"df_10min:\", CML_10min.index.min(), \"to\", CML_10min.index.max())\n",
    "\n",
    "# Step 3: Check timestamp intersection\n",
    "intersection = CML_10min.index.intersection(arpa_VS.index)\n",
    "print(f\"Shared timestamps: {len(intersection)}\")\n",
    "\n",
    "# Step 4: Ensure both columns are float\n",
    "print(\"ARPA dtype:\", arpa_VS['Temp_mean'].dtype)\n",
    "print(\"CML Temp dtype:\", CML_10min['Temp'].dtype)"
   ]
  },
  {
   "cell_type": "code",
   "execution_count": null,
   "id": "4645b466-2c31-44ea-82df-8bbaabb07a86",
   "metadata": {},
   "outputs": [],
   "source": [
    "# Extract the ARPA temperature series\n",
    "arpa_series = arpa_VS['Temp_mean']\n",
    "arpa_series = arpa_series.sort_index()\n",
    "\n",
    "# Ensure df_10min is sorted by station and datetime\n",
    "CML_10min = CML_10min.sort_values(['station', 'Datetime'])\n",
    "\n",
    "# Group by station\n",
    "correlations = {}\n",
    "for station, group in CML_10min.groupby('station'):\n",
    "    # Join on index (Datetime) directly\n",
    "    merged = group[['Temp']].join(arpa_series, how='inner')\n",
    "\n",
    "    # Drop NaNs to avoid invalid correlation\n",
    "    merged = merged.dropna()\n",
    "\n",
    "    if not merged.empty:\n",
    "        corr = merged['Temp'].corr(merged['Temp_mean'])\n",
    "        correlations[station] = corr\n",
    "    else:\n",
    "        correlations[station] = np.nan\n",
    "\n",
    "# Convert result to DataFrame\n",
    "correlation_df = pd.DataFrame.from_dict(correlations, orient='index', columns=['correlation'])\n",
    "correlation_df = correlation_df.sort_values(by='correlation', ascending=False)"
   ]
  },
  {
   "cell_type": "code",
   "execution_count": null,
   "id": "6d84d382-95fb-4fb2-bb31-bb05c5c16730",
   "metadata": {},
   "outputs": [],
   "source": [
    "print(correlation_df.to_string())"
   ]
  },
  {
   "cell_type": "markdown",
   "id": "1a0675be-9154-4706-8b81-f0e3d2c62736",
   "metadata": {},
   "source": [
    "<span style=\"color:red; font-weight:bold\">Since all stations show high reliability we retain them all.</span>"
   ]
  },
  {
   "cell_type": "markdown",
   "id": "470cf0e2-4d24-4436-9ece-eed2f20e0d08",
   "metadata": {},
   "source": [
    "## Removal of unrealistic values\n",
    "\n",
    "Two steps are conducted\n",
    "1. Remove values which are +2 °C of max and -2 °C of min monthly ARPA measurements\n",
    "2. Remove values which are +/- 3 STDEV of ARPA stations daily values\n",
    "\n",
    "We will clean the 10-min df already created in the previous steps for plotting/correlation analysis."
   ]
  },
  {
   "cell_type": "markdown",
   "id": "7398002e-9ab6-4751-ba79-59200e0c5458",
   "metadata": {},
   "source": [
    "### **Step 1: max + 2 °C and min - 2°C**"
   ]
  },
  {
   "cell_type": "code",
   "execution_count": null,
   "id": "dee4f6ec-ae94-4fd7-a25f-fe2cc9750065",
   "metadata": {},
   "outputs": [],
   "source": [
    "CML_10min = pd.read_parquet(\"./CML_txt_export/CML_allstations_10min_notcleaned.parquet\")\n",
    "arpa_VS = pd.read_parquet(\"../ARPA/parquet/ARPA_2022_full/ARPA_virtual_station_2022.parquet\")\n",
    "\n",
    "CML_10min['Datetime'] = pd.to_datetime(CML_10min['Datetime'])\n",
    "arpa_VS['Datetime'] = pd.to_datetime(arpa_VS['Datetime'])\n",
    "\n",
    "CML_10min.set_index('Datetime', inplace=True)\n",
    "arpa_VS.set_index('Datetime', inplace=True)"
   ]
  },
  {
   "cell_type": "code",
   "execution_count": null,
   "id": "1bb7e129-fb67-429c-be90-9ff57ab99f05",
   "metadata": {},
   "outputs": [],
   "source": [
    "CML_10min.index = pd.to_datetime(CML_10min.index)\n",
    "arpa_VS.index = pd.to_datetime(arpa_VS.index)\n",
    "\n",
    "# Calculate ARPA monthly min/max bounds with the 2°C margin\n",
    "monthly_bounds = arpa_VS['Temp_mean'].resample('M').agg(['min', 'max'])\n",
    "monthly_bounds['min'] -= 2\n",
    "monthly_bounds['max'] += 2"
   ]
  },
  {
   "cell_type": "code",
   "execution_count": null,
   "id": "3f802762-1944-4da8-b8c2-3febd7fcf24d",
   "metadata": {},
   "outputs": [],
   "source": [
    "# Create a 'month' column in df_combined with the period of each entry\n",
    "df_step1 = CML_10min.copy()\n",
    "\n",
    "# Convert to period and then back to the first day of the month (start of the month)\n",
    "df_step1['month'] = df_step1.index.to_period('M').to_timestamp()"
   ]
  },
  {
   "cell_type": "code",
   "execution_count": null,
   "id": "f2d7c231-eb07-413d-b367-e937833e0cf8",
   "metadata": {},
   "outputs": [],
   "source": [
    "df_step1"
   ]
  },
  {
   "cell_type": "code",
   "execution_count": null,
   "id": "15b9da36-26d2-4f1a-bdbe-c0fb952c7036",
   "metadata": {},
   "outputs": [],
   "source": [
    "# Merge the monthly bounds into df_combined_clean based on the 'month' column\n",
    "# We need the ARPA bounds to have the same datetime format for merging.\n",
    "monthly_bounds.index = monthly_bounds.index.to_period('M').to_timestamp()  # Convert period to timestamp\n",
    "\n",
    "# Perform the merge based on the 'month' column\n",
    "df_step1 = df_step1.merge(monthly_bounds[['min', 'max']], left_on='month', right_index=True, how='left')"
   ]
  },
  {
   "cell_type": "code",
   "execution_count": null,
   "id": "41c54937-2dee-448f-bddd-28544d7c0f76",
   "metadata": {},
   "outputs": [],
   "source": [
    "df_step1"
   ]
  },
  {
   "cell_type": "code",
   "execution_count": null,
   "id": "6d4eebcf-60e3-4175-bf65-0cde93e57744",
   "metadata": {},
   "outputs": [],
   "source": [
    "# Replace unrealistic values with NaN\n",
    "mask = (df_step1['Temp'] >= df_step1['min']) & (df_step1['Temp'] <= df_step1['max'])\n",
    "df_step1.loc[~mask, 'Temp'] = np.nan"
   ]
  },
  {
   "cell_type": "code",
   "execution_count": null,
   "id": "584a211b-6714-4280-8b60-69db973a9434",
   "metadata": {},
   "outputs": [],
   "source": [
    "df_step1 "
   ]
  },
  {
   "cell_type": "code",
   "execution_count": null,
   "id": "0901e74e-32b2-4e1b-b26e-93ae9669a0f0",
   "metadata": {},
   "outputs": [],
   "source": [
    "# Number of missing rows in 10-min dataframe\n",
    "print(CML_10min['Temp'].isna().sum())"
   ]
  },
  {
   "cell_type": "code",
   "execution_count": null,
   "id": "f2405bc4-ef4b-40b4-bb21-8ea50d12f0f8",
   "metadata": {},
   "outputs": [],
   "source": [
    "# Count number of NaN Temps per station\n",
    "out_of_range_counts = df_step1[df_step1['Temp'].isna()].groupby('station').size().reset_index(name='out_of_range_count')\n",
    "print(out_of_range_counts.to_string())"
   ]
  },
  {
   "cell_type": "code",
   "execution_count": null,
   "id": "76d8480a-2210-496f-be5f-5df1806fbc6c",
   "metadata": {},
   "outputs": [],
   "source": [
    "# Check if min/max values were taken correctly from ARPA VS\n",
    "print(arpa_VS.loc[arpa_VS.index.month == 2, 'Temp_mean'].agg(['min', 'max']))"
   ]
  },
  {
   "cell_type": "code",
   "execution_count": null,
   "id": "7e17d6df-2e10-4cf7-b405-62916ca5888e",
   "metadata": {},
   "outputs": [],
   "source": [
    "# This difference shows the number of cleaned rows (based on no. of NaNs before and after cleaning)\n",
    "diff_s1 = df_step1['Temp'].isna().sum() - CML_10min['Temp'].isna().sum()\n",
    "print(diff_s1)"
   ]
  },
  {
   "cell_type": "markdown",
   "id": "b59a1bde-2d70-4ef2-b7f8-070c9b7d1897",
   "metadata": {},
   "source": [
    "### **Step 2: +/- 3 STDEV**"
   ]
  },
  {
   "cell_type": "code",
   "execution_count": null,
   "id": "31d09f2e-45bc-42b7-b913-3dfc1e64fffd",
   "metadata": {},
   "outputs": [],
   "source": [
    "arpa_VS"
   ]
  },
  {
   "cell_type": "code",
   "execution_count": null,
   "id": "04e851e2-f1ba-45f5-a57d-46895ea39f4e",
   "metadata": {},
   "outputs": [],
   "source": [
    "df_step2 = df_step1.copy().drop(columns=['min', 'max'])\n",
    "df_step2"
   ]
  },
  {
   "cell_type": "code",
   "execution_count": null,
   "id": "2b1d150b-35f9-4661-97c7-a9530c286053",
   "metadata": {},
   "outputs": [],
   "source": [
    "# Here we merge data from ARPA VS - mean value and STD\n",
    "df_step2 = df_step2.merge(arpa_VS[['Temp_mean', 'Temp_std']], left_on='Datetime', right_index=True, how='left')"
   ]
  },
  {
   "cell_type": "code",
   "execution_count": null,
   "id": "9988b1f9-4f97-4c2e-a488-669e809cf5ce",
   "metadata": {},
   "outputs": [],
   "source": [
    "df_step2.head()"
   ]
  },
  {
   "cell_type": "code",
   "execution_count": null,
   "id": "5d2b1324-e0f0-426b-abf0-0b6b5796a2ef",
   "metadata": {},
   "outputs": [],
   "source": [
    "nan_counts_s2_before = df_step2.isna().sum()\n",
    "print(nan_counts_s2_before)"
   ]
  },
  {
   "cell_type": "code",
   "execution_count": null,
   "id": "ccb94e09-c68e-4648-8949-e06861419330",
   "metadata": {},
   "outputs": [],
   "source": [
    "# Reset the index so that 'Datetime' becomes a column\n",
    "df_step2.reset_index(inplace=True)\n",
    "df_step2['Datetime'] = pd.to_datetime(df_step2['Datetime'], errors='coerce')\n",
    "\n",
    "initial_temp_values = df_step2['Temp'].copy()\n",
    "\n",
    "# Mask to remove outliers (+/- 3 STDEV)\n",
    "mask = (df_step2['Temp'] >= df_step2['Temp_mean'] - 3 * df_step2['Temp_std']) & \\\n",
    "       (df_step2['Temp'] <= df_step2['Temp_mean'] + 3 * df_step2['Temp_std'])\n",
    "\n",
    "# Identify outliers and apply NaN\n",
    "invalid_rows = ~mask\n",
    "df_step2.loc[invalid_rows, 'Temp'] = np.nan\n",
    "\n",
    "# Identify newly removed rows\n",
    "newly_removed_rows = df_step2['Temp'].isna() & initial_temp_values.notna()\n",
    "\n",
    "# Extract the time part from Datetime\n",
    "df_step2['TimeOnly'] = df_step2['Datetime'].dt.time\n",
    "\n",
    "# Count rows were removed for each time of day\n",
    "removed_by_time = (\n",
    "    df_step2.loc[newly_removed_rows]  # Only count rows that are newly set to NaN\n",
    "    .groupby('TimeOnly')\n",
    "    .size()\n",
    "    .sort_values(ascending=False)\n",
    ")"
   ]
  },
  {
   "cell_type": "code",
   "execution_count": null,
   "id": "6b4b60b3-72af-4f52-abeb-eb2b2f587702",
   "metadata": {},
   "outputs": [],
   "source": [
    "# Total number of newly removed rows per time step\n",
    "total_newly_removed = newly_removed_rows.sum()\n",
    "print(f\"Total number of rows newly removed: {total_newly_removed}\")\n",
    "\n",
    "# Add percentages compared to the total (22995 is the number of individual time step observations during a year for 63 stations)\n",
    "removed_by_time_with_pct = removed_by_time.apply(lambda x: f\"{x} ({round(x / 22995 * 100, 2)}%)\")\n",
    "\n",
    "# Print the counts with percentage of total expected rows\n",
    "print(\"Rows newly removed by time (count with % of total expected rows):\")\n",
    "print(removed_by_time_with_pct.head(50))"
   ]
  },
  {
   "cell_type": "code",
   "execution_count": null,
   "id": "e3279c36-266a-4508-a725-d9db472a5fee",
   "metadata": {},
   "outputs": [],
   "source": [
    "# Basic bar plot of removed rows per time step\n",
    "plt.figure(figsize=(14, 6))\n",
    "removed_by_time.plot(kind='bar', color='skyblue', edgecolor='black')\n",
    "\n",
    "plt.title('Number of Removed Rows per Time Step')\n",
    "plt.xlabel('Time Step')\n",
    "plt.ylabel('Rows Removed')\n",
    "plt.xticks(rotation=90, ha='right')  # Adjust for readability\n",
    "plt.xticks(fontsize=7)\n",
    "plt.tight_layout()\n",
    "plt.grid(axis='y')\n",
    "\n",
    "plt.savefig('cleaned_rows_per_timestamp.png')\n",
    "plt.show()"
   ]
  },
  {
   "cell_type": "code",
   "execution_count": null,
   "id": "1aeef9f6-51b8-46b2-b2ef-e41badf01d23",
   "metadata": {},
   "outputs": [],
   "source": [
    "nan_counts_s2_after = df_step2.isna().sum()\n",
    "print(nan_counts_s2_after)"
   ]
  },
  {
   "cell_type": "code",
   "execution_count": null,
   "id": "f980b0cf-f1cf-44fa-86ff-089a224d9121",
   "metadata": {},
   "outputs": [],
   "source": [
    "# This difference shows the number of cleaned rows (based on no. of NaNs before and after cleaning)\n",
    "diff_s2_a = df_step2['Temp'].isna().sum() - CML_10min['Temp'].isna().sum()\n",
    "diff_s2_b = df_step2['Temp'].isna().sum() - df_step1['Temp'].isna().sum()\n",
    "print(f\"Number of cleaned rows after second step compared to not cleaned 10-min dataset: {diff_s2_a}\")\n",
    "print(f\"Number of cleaned rows after second step compared to first step: {diff_s2_b}\")\n",
    "print(f\"Number of cleaned rows after first step: {2287}\")"
   ]
  },
  {
   "cell_type": "markdown",
   "id": "c86172af-c386-4875-8aa5-8212e34790c9",
   "metadata": {},
   "source": [
    "**Here we check number of removed observations per station**"
   ]
  },
  {
   "cell_type": "code",
   "execution_count": null,
   "id": "94e5755c-c05e-4ec1-8a0b-ea4a08256a79",
   "metadata": {},
   "outputs": [],
   "source": [
    "# Reset index\n",
    "CML_10min.reset_index(drop=True, inplace=True)\n",
    "df_step2.reset_index(drop=True, inplace=True)\n",
    "\n",
    "# Create a mask for valid (non-NaN) original rows\n",
    "valid_original_mask = CML_10min['Temp'].notna()\n",
    "\n",
    "# Identify removed rows — Temp was valid originally but NaN after cleaning\n",
    "removed_rows_mask = valid_original_mask & df_step2['Temp'].isna()\n",
    "\n",
    "# Count removed rows and valid original rows per station\n",
    "removed_by_station = CML_10min.loc[removed_rows_mask].groupby('station').size()\n",
    "valid_rows_by_station = CML_10min.loc[valid_original_mask].groupby('station').size()\n",
    "\n",
    "# Build cleaning stats per station\n",
    "station_cleaning_stats = pd.DataFrame({'station': valid_rows_by_station.index})\n",
    "station_cleaning_stats['removed'] = station_cleaning_stats['station'].map(removed_by_station).fillna(0)\n",
    "station_cleaning_stats['total_valid'] = station_cleaning_stats['station'].map(valid_rows_by_station).fillna(1)\n",
    "station_cleaning_stats['removed_pct'] = (station_cleaning_stats['removed'] / station_cleaning_stats['total_valid']) * 100\n",
    "\n",
    "# Load coordinates and merge additional info\n",
    "coords = pd.read_csv('CML_coordinates.csv')\n",
    "station_cleaning_stats = station_cleaning_stats.merge(\n",
    "    coords[['station', 'lat', 'long', 'Instrument height', 'Surface', 'alt slm']],\n",
    "    on='station',\n",
    "    how='left'\n",
    ")\n",
    "station_cleaning_stats.dropna(subset=['lat', 'long'], inplace=True)\n",
    "\n",
    "# Define color based on removal percentage\n",
    "def get_color(pct):\n",
    "    if pct < 0.5:\n",
    "        return 'lightgreen'\n",
    "    elif pct < 1.0:\n",
    "        return 'orange'\n",
    "    else:\n",
    "        return 'red'\n",
    "\n",
    "station_cleaning_stats['color'] = station_cleaning_stats['removed_pct'].apply(get_color)\n",
    "\n",
    "# Create map\n",
    "map_center = [station_cleaning_stats['lat'].mean(), station_cleaning_stats['long'].mean()]\n",
    "m = folium.Map(\n",
    "    location=map_center,\n",
    "    zoom_start=10,\n",
    "    tiles='https://server.arcgisonline.com/ArcGIS/rest/services/World_Imagery/MapServer/tile/{z}/{y}/{x}',\n",
    "    attr='esri'\n",
    ")\n",
    "\n",
    "# Add markers with enhanced popup info\n",
    "for _, row in station_cleaning_stats.iterrows():\n",
    "    popup_text = (\n",
    "        f\"<b>Station:</b> {row['station']}<br>\"\n",
    "        f\"<b>Removed:</b> {int(row['removed'])} rows<br>\"\n",
    "        f\"<b>Percentage:</b> {row['removed_pct']:.2f}%<br>\"\n",
    "        f\"<b>Altitude:</b> {row['alt slm']} m <br>\"\n",
    "        f\"<b>Instrument height:</b> {row['Instrument height']} m <br>\"\n",
    "        f\"<b>Surface:</b> {row['Surface']}\"\n",
    "    )\n",
    "    folium.CircleMarker(\n",
    "        location=[row['lat'], row['long']],\n",
    "        radius=6,\n",
    "        color=row['color'],\n",
    "        fill=True,\n",
    "        fill_opacity=0.7,\n",
    "        popup=folium.Popup(popup_text, max_width=300)\n",
    "    ).add_to(m)\n",
    "\n",
    "# Add legend\n",
    "legend_html = \"\"\"\n",
    "<div style=\"\n",
    "     position: fixed;\n",
    "     bottom: 40px;\n",
    "     left: 40px;\n",
    "     width: 130px;\n",
    "     height: 140px;\n",
    "     background-color: white;\n",
    "     border:2px solid grey;\n",
    "     z-index:9999;\n",
    "     font-size:18px;\n",
    "     padding: 10px;\n",
    "     box-shadow: 2px 2px 5px rgba(0,0,0,0.4);\n",
    "     \">\n",
    "<b>Cleaning %</b><br>\n",
    "<i style=\"background:lightgreen; width:10px; height:10px; display:inline-block;\"></i>\n",
    " &lt; 0.5%<br>\n",
    "<i style=\"background:orange; width:10px; height:10px; display:inline-block;\"></i>\n",
    " 0.5 – 1%<br>\n",
    "<i style=\"background:red; width:10px; height:10px; display:inline-block;\"></i>\n",
    " > 1%<br>\n",
    "</div>\n",
    "\"\"\"\n",
    "m.get_root().html.add_child(folium.Element(legend_html))\n",
    "\n",
    "# Save and/or display\n",
    "m.save(\"stations_cleaning_map.html\")\n",
    "m  # For display in Jupyter"
   ]
  },
  {
   "cell_type": "code",
   "execution_count": null,
   "id": "84135eea-ba6a-4c3a-aecf-cc2b6a9d25a9",
   "metadata": {},
   "outputs": [],
   "source": [
    "valid_rows_by_station"
   ]
  },
  {
   "cell_type": "code",
   "execution_count": null,
   "id": "67f9715c-0018-4727-979d-3d1af5eb2490",
   "metadata": {},
   "outputs": [],
   "source": [
    "# Export cleaning stats to GPKG to create map\n",
    "\n",
    "gdf = gpd.GeoDataFrame(\n",
    "    station_cleaning_stats,\n",
    "    geometry=gpd.points_from_xy(station_cleaning_stats['long'], station_cleaning_stats['lat']),\n",
    "    crs='EPSG:4326'  # WGS84\n",
    ")\n",
    "\n",
    "gdf.to_file(\"station_cleaning_stats.gpkg\", driver=\"GPKG\", layer='stations')"
   ]
  },
  {
   "cell_type": "markdown",
   "id": "adf31078-7042-4c51-8286-82a2b86ad4a8",
   "metadata": {},
   "source": [
    "### Let's aggregate CML and ARPA to one hour intervals"
   ]
  },
  {
   "cell_type": "markdown",
   "id": "0c7ceebf-bb82-471a-8041-88f59fb93b0e",
   "metadata": {},
   "source": [
    "#### **CML**"
   ]
  },
  {
   "cell_type": "code",
   "execution_count": null,
   "id": "1417af04-fbc0-4d02-b491-e1e9e4fe3c39",
   "metadata": {},
   "outputs": [],
   "source": [
    "df_step2 = df_step2.reset_index()"
   ]
  },
  {
   "cell_type": "code",
   "execution_count": null,
   "id": "d2d3a017-07a1-4677-97b4-7a46837ab078",
   "metadata": {},
   "outputs": [],
   "source": [
    "def average_chunks_CML(df, chunk_size, resample_freq):\n",
    "    results = []\n",
    "    for station, group in df.groupby('station'):\n",
    "        group = group.sort_values('Datetime').reset_index(drop=True)\n",
    "        n_chunks = len(group) // chunk_size\n",
    "        if n_chunks == 0:\n",
    "            continue\n",
    "        truncated = group.iloc[:n_chunks * chunk_size]\n",
    "        \n",
    "        reshaped = truncated['Temp'].values.reshape(-1, chunk_size)\n",
    "\n",
    "        # Initialize an array to hold the mean temperatures\n",
    "        mean_temps = []\n",
    "\n",
    "        for chunk in reshaped:\n",
    "            # Check if the chunk has any valid values before computing the mean\n",
    "            if np.count_nonzero(~np.isnan(chunk)) == 0:\n",
    "                mean_temps.append(np.nan)  # If all values are NaN, append NaN\n",
    "            else:\n",
    "                mean_temps.append(np.nanmean(chunk))  # Compute mean, ignoring NaNs\n",
    "\n",
    "        # Assign the last timestamp in each chunk, floored to the desired interval\n",
    "        timestamps = truncated['Datetime'].values.reshape(-1, chunk_size)[:, -1]\n",
    "        timestamps = pd.to_datetime(timestamps).floor(resample_freq)\n",
    "        timestamps += pd.Timedelta(hours=1)\n",
    "\n",
    "        result_df = pd.DataFrame({\n",
    "            'Datetime': timestamps,\n",
    "            'Temp': mean_temps,\n",
    "            'station': station\n",
    "        })\n",
    "        results.append(result_df)\n",
    "    \n",
    "    return pd.concat(results, ignore_index=True)"
   ]
  },
  {
   "cell_type": "code",
   "execution_count": null,
   "id": "df80a882-259a-4ecb-a8b2-c1cc559ad9f7",
   "metadata": {},
   "outputs": [],
   "source": [
    "# Aggregate to 1-hour intervals directly (6 10-min intervals per hour)\n",
    "CML_hourly = average_chunks_CML(df_step2, chunk_size=6, resample_freq='H')"
   ]
  },
  {
   "cell_type": "code",
   "execution_count": null,
   "id": "8e134e2c-d097-4343-b2a3-904534713681",
   "metadata": {},
   "outputs": [],
   "source": [
    "CML_hourly['Temp'] = CML_hourly['Temp'].round(2)"
   ]
  },
  {
   "cell_type": "code",
   "execution_count": null,
   "id": "1f3ff6ce-c981-4f79-bf97-bb49a8ccf5aa",
   "metadata": {},
   "outputs": [],
   "source": [
    "CML_hourly"
   ]
  },
  {
   "cell_type": "code",
   "execution_count": null,
   "id": "544386d9-dfe1-4829-8088-9cb34323d4ad",
   "metadata": {},
   "outputs": [],
   "source": [
    "# Load the CML metadata file\n",
    "CML_lat_lon = pd.read_csv(\"./CML_coordinates.csv\")\n",
    "\n",
    "# Merge using 'station' as key\n",
    "CML_hourly_final = CML_hourly.merge(\n",
    "    CML_lat_lon[['station','lat', 'long']],\n",
    "    on='station',\n",
    "    how='left'\n",
    ")\n",
    "\n",
    "# Check result\n",
    "print(CML_hourly_final[['station', 'lat', 'long']].head())"
   ]
  },
  {
   "cell_type": "code",
   "execution_count": null,
   "id": "07628b3a-bb73-4a4b-bedb-ebc4bdc282c7",
   "metadata": {},
   "outputs": [],
   "source": [
    "unique_station_count = CML_hourly_final['station'].nunique()\n",
    "print(f\"Number of unique station IDs: {unique_station_count}\")"
   ]
  },
  {
   "cell_type": "code",
   "execution_count": null,
   "id": "2f27d12c-3c6d-4b2c-8d2f-4f4b15bd0ebe",
   "metadata": {},
   "outputs": [],
   "source": [
    "#df_combined_hourly\n",
    "print(CML_hourly_final[CML_hourly_final['station'] == 'sedriano'])"
   ]
  },
  {
   "cell_type": "code",
   "execution_count": null,
   "id": "1dca4e12-5972-4be0-aabd-c340ae7ae9fc",
   "metadata": {},
   "outputs": [],
   "source": [
    "nan_hourly = CML_hourly_final[CML_hourly_final['Temp'].isna()].groupby('station').size()\n",
    "print(nan_hourly.to_string())"
   ]
  },
  {
   "cell_type": "code",
   "execution_count": null,
   "id": "3420ace7-ec98-4170-beed-327e18765b01",
   "metadata": {},
   "outputs": [],
   "source": [
    "# Count total number of NaN values\n",
    "total_nans = CML_hourly_final['Temp'].isna().sum()\n",
    "print(f\"Total NaNs in Temp column: {total_nans}\")"
   ]
  },
  {
   "cell_type": "markdown",
   "id": "f6ced6c5-28ae-47eb-a3e6-8d40ba6c260e",
   "metadata": {},
   "source": [
    "In total, there are 39143 rows with missing values (7.1% of the full dataset of 551880 rows) - but that also includes originally missing values, not only the ones removed by the cleaning process."
   ]
  },
  {
   "cell_type": "code",
   "execution_count": null,
   "id": "797f2d52-9ba9-462f-9a3c-6172c02ea14a",
   "metadata": {},
   "outputs": [],
   "source": [
    "# Export to csv and parquet\n",
    "# This is without altitude correction which is done below\n",
    "CML_hourly_final.to_csv(\"./Final_Cleaned/CML_hourly_final.csv\", index=False)\n",
    "CML_hourly_final.to_parquet(\"./Final_Cleaned/CML_hourly_final.parquet\", index=False)"
   ]
  },
  {
   "cell_type": "markdown",
   "id": "e0d2c8e0-7663-4399-b858-3c03e629c135",
   "metadata": {},
   "source": [
    "#### **ARPA**"
   ]
  },
  {
   "cell_type": "code",
   "execution_count": null,
   "id": "874698b3-15fc-4c64-9dc9-e5b74b01b5d4",
   "metadata": {},
   "outputs": [],
   "source": [
    "arpa_stations = pd.read_parquet(\"../ARPA/parquet/ARPA_2022_full/ARPA_2022_fullyear_cleaned.parquet\")"
   ]
  },
  {
   "cell_type": "code",
   "execution_count": null,
   "id": "be500f87-9bbe-4bc5-b083-270d74154888",
   "metadata": {},
   "outputs": [],
   "source": [
    "arpa_stations"
   ]
  },
  {
   "cell_type": "code",
   "execution_count": null,
   "id": "8f5d2e2a-754d-4a58-aaed-0adb5ba37ec6",
   "metadata": {},
   "outputs": [],
   "source": [
    "# Ensure datetime is a column and not index\n",
    "if arpa_stations.index.name == 'Datetime':\n",
    "    arpa_stations = arpa_stations.reset_index()"
   ]
  },
  {
   "cell_type": "code",
   "execution_count": null,
   "id": "1c2eb9b8-0ecf-4542-ad4b-1cfa7ead967a",
   "metadata": {},
   "outputs": [],
   "source": [
    "def average_chunks_arpa(df, chunk_size=6, resample_freq='H'):\n",
    "    results = []\n",
    "    for station, group in df.groupby('Id'):\n",
    "        group = group.sort_values('Datetime').reset_index(drop=True)\n",
    "        n_chunks = len(group) // chunk_size\n",
    "        if n_chunks == 0:\n",
    "            continue\n",
    "        truncated = group.iloc[:n_chunks * chunk_size]\n",
    "\n",
    "        reshaped = truncated['Temp'].values.reshape(-1, chunk_size)\n",
    "\n",
    "        with warnings.catch_warnings():\n",
    "            warnings.simplefilter(\"ignore\", category=RuntimeWarning)\n",
    "            mean_temps = np.nanmean(reshaped, axis=1)\n",
    "\n",
    "        timestamps = truncated['Datetime'].values.reshape(-1, chunk_size)[:, 1]\n",
    "        timestamps = pd.to_datetime(timestamps).floor(resample_freq)\n",
    "        timestamps += pd.Timedelta(hours=1) \n",
    "\n",
    "        result_df = pd.DataFrame({\n",
    "            'Datetime': timestamps,\n",
    "            'Temp': mean_temps,\n",
    "            'Id': station\n",
    "        })\n",
    "        results.append(result_df)\n",
    "\n",
    "    return pd.concat(results, ignore_index=True)\n",
    "\n",
    "# Aggregate ARPA data\n",
    "arpa_hourly = average_chunks_arpa(arpa_stations)\n",
    "\n",
    "# Optional: see number of NaNs\n",
    "print(\"Total NaNs in hourly ARPA:\", arpa_hourly['Temp'].isna().sum())"
   ]
  },
  {
   "cell_type": "markdown",
   "id": "fe7f47c4-165e-4070-a4dd-6f91c4ae9066",
   "metadata": {},
   "source": [
    "Missing rows of ARPA (1110) are 0.5% of the full dataset which is 297840 rows."
   ]
  },
  {
   "cell_type": "code",
   "execution_count": null,
   "id": "d6db75b5-a4f1-4190-824f-d2fd4fea170f",
   "metadata": {},
   "outputs": [],
   "source": [
    "arpa_hourly['Temp'] = arpa_hourly['Temp'].round(2)"
   ]
  },
  {
   "cell_type": "code",
   "execution_count": null,
   "id": "09a4a3a6-a41c-4689-a8a8-300d162ac8df",
   "metadata": {},
   "outputs": [],
   "source": [
    "arpa_hourly"
   ]
  },
  {
   "cell_type": "markdown",
   "id": "385ea8ab-6eee-43dd-8ed5-fc22ed548835",
   "metadata": {},
   "source": [
    "Let's add lat/long and station name info to ARPA"
   ]
  },
  {
   "cell_type": "code",
   "execution_count": null,
   "id": "04f3964b-6425-4873-89a4-2e343412be6f",
   "metadata": {},
   "outputs": [],
   "source": [
    "# Load the ARPA metadata file\n",
    "arpa_lat_lon = pd.read_csv(\"../ARPA/ARPA_lat_lon.csv\")\n",
    "\n",
    "# Merge using 'Id Sensore' as key\n",
    "arpa_hourly_final = arpa_hourly.merge(\n",
    "    arpa_lat_lon[['Id', 'station', 'lat', 'long']],\n",
    "    on='Id',\n",
    "    how='left'\n",
    ")\n",
    "\n",
    "# Check result\n",
    "print(arpa_hourly_final[['Id', 'station', 'lat', 'long']].head())"
   ]
  },
  {
   "cell_type": "code",
   "execution_count": null,
   "id": "337997d2-b325-4568-98f6-22145fdeb481",
   "metadata": {},
   "outputs": [],
   "source": [
    "arpa_hourly_final"
   ]
  },
  {
   "cell_type": "code",
   "execution_count": null,
   "id": "de1df831-dbaa-4491-813b-57c9cf328285",
   "metadata": {},
   "outputs": [],
   "source": [
    "# Export to csv and parquet\n",
    "arpa_hourly_final.to_csv(\"./Final_Cleaned/ARPA_hourly_final.csv\", index=False)\n",
    "arpa_hourly_final.to_parquet(\"./Final_Cleaned/ARPA_hourly_final.parquet\", index=False)"
   ]
  },
  {
   "cell_type": "markdown",
   "id": "663c24cc-4828-418d-9bcc-4634a998582d",
   "metadata": {},
   "source": [
    "#"
   ]
  },
  {
   "cell_type": "markdown",
   "id": "1ed23b2a-7d72-42e8-b9ce-a2d034901eaf",
   "metadata": {},
   "source": [
    "#### \n",
    "----------\n",
    "**Quick recap CML:**\n",
    "- From the first step of cleaning unrealistic values (+/- 2 °C), a total of 2287 values were removed.\n",
    "- From the second step of cleaning unrealistic values (+/- 3 STDEV), an additional 8789 values were removed.\n",
    "\n",
    "This is a total of **11076** values removed from the 10-min df (0.33%). \n",
    "Lastly, there are **39143** rows with missing values for the final hourly df (7.1% of the full dataset, 551880 rows). This also includes originally missing values.\n",
    "\n",
    "**Quick recap ARPA:**\n",
    "- Some values (such as -999) were removed (**7560**).\n",
    "- Z-score outlier removal resulted in **1026** values removed at a 10-min interval.\n",
    "- Totally, **1110** missing values are present in the final hourly df (0.4% of the full dataset, 297840 rows).\n",
    "\n",
    "----------"
   ]
  },
  {
   "cell_type": "code",
   "execution_count": null,
   "id": "84499420-b5a4-4273-94e2-a38f0cb47828",
   "metadata": {},
   "outputs": [],
   "source": [
    "# Create ARPA and CML Virtual Station of one hour measurements\n",
    "cml_VS_1h = CML_hourly_final.groupby('Datetime')['Temp'].agg(Temp_mean='mean').reset_index()\n",
    "cml_VS_1h['station'] = 'CML_Virtual'\n",
    "\n",
    "arpa_VS_1h = arpa_hourly_final.groupby('Datetime')['Temp'].agg(Temp_mean='mean').reset_index()\n",
    "arpa_VS_1h['station'] = 'ARPA_Virtual'\n",
    "\n",
    "cml_VS_1h.to_parquet(\"./Final_cleaned/CML_VS_1h.parquet\", index=False)\n",
    "arpa_VS_1h.to_parquet(\"./Final_cleaned/ARPA_VS_1h.parquet\", index=False)"
   ]
  },
  {
   "cell_type": "markdown",
   "id": "de597d02-240a-49b9-a88d-318054727e91",
   "metadata": {},
   "source": [
    "Add urban/natural and altitude information to ARPA/CML Stations and export to metadata parquet"
   ]
  },
  {
   "cell_type": "code",
   "execution_count": null,
   "id": "5e33d230-aed1-479c-8f2e-798426ce00d9",
   "metadata": {},
   "outputs": [],
   "source": [
    "# Load the urban/rural classification file\n",
    "lcz_df = pd.read_csv('../../Data/LCZ/ARPA_CML_stations_LCZ.csv', delimiter=',')"
   ]
  },
  {
   "cell_type": "code",
   "execution_count": null,
   "id": "72910996-f561-4e15-911c-1ae81bf77ae3",
   "metadata": {},
   "outputs": [],
   "source": [
    "lcz_df"
   ]
  },
  {
   "cell_type": "code",
   "execution_count": null,
   "id": "2a6c7e0d-1dd0-40c7-a240-752e81cdee66",
   "metadata": {},
   "outputs": [],
   "source": [
    "# Add metadata and export\n",
    "\n",
    "arpa_hourly_final['Id'] = arpa_hourly_final['Id'].astype(str)\n",
    "CML_hourly_final['station'] = CML_hourly_final['station'].astype(str)\n",
    "lcz_df['Id'] = lcz_df['Id'].astype(str)\n",
    "\n",
    "# Filter CSV by network and select only keys + urban/natural\n",
    "# In lcz_df there is altitude and altitude1 column. Altitude is only elevation, while altitude1 is elevation + building and sensor height\n",
    "lcz_arpa = lcz_df[lcz_df['network'] == 'ARPA'][['Id', 'urban/natural', 'altitude1', 'Altitude-group']]\n",
    "lcz_cml = lcz_df[lcz_df['network'] == 'CML'][['Id', 'urban/natural', 'altitude1', 'Altitude-group']]\n",
    "\n",
    "# Merge for ARPA on 'Id'\n",
    "arpa_hourly_final = arpa_hourly_final.merge(lcz_arpa, on='Id', how='left')\n",
    "\n",
    "# Merge for CML on 'station' (left) and 'Id' (right)\n",
    "CML_hourly_final = CML_hourly_final.merge(lcz_cml, left_on='station', right_on='Id', how='left')\n",
    "\n",
    "# Export\n",
    "arpa_hourly_final.to_parquet(\"./Final_Cleaned/ARPA_hourly_final_metadata.parquet\", index=False)\n",
    "CML_hourly_final.to_parquet(\"./Final_Cleaned/CML_hourly_final_metadata.parquet\", index=False)"
   ]
  },
  {
   "cell_type": "markdown",
   "id": "17e5d5ef-9adf-4802-9724-585256ebf426",
   "metadata": {},
   "source": [
    "# Elevation correction"
   ]
  },
  {
   "cell_type": "code",
   "execution_count": 9,
   "id": "fbb64af8-e96d-453d-828d-1c4d097b8185",
   "metadata": {},
   "outputs": [
    {
     "name": "stdout",
     "output_type": "stream",
     "text": [
      "Mean reference elevation: 141.00 meters\n"
     ]
    }
   ],
   "source": [
    "arpa_1h_metadata = pd.read_parquet(\"./Final_cleaned/ARPA_hourly_final_metadata.parquet\")\n",
    "cml_1h_metadata = pd.read_parquet(\"./Final_cleaned/CML_hourly_final_metadata.parquet\")\n",
    "\n",
    "# Combine to compute reference elevation\n",
    "combined_alt = pd.concat([arpa_1h_metadata[['altitude1']], cml_1h_metadata[['altitude1']]])\n",
    "mean_elevation = 141\n",
    "print(f\"Mean reference elevation: {mean_elevation:.2f} meters\")\n",
    "\n",
    "# Define lapse rate (°C/m)\n",
    "lapse_rate = 0.0065\n",
    "\n",
    "# Apply correction\n",
    "arpa_1h_metadata['Temp_corrected'] = (arpa_1h_metadata['Temp'] + lapse_rate * (mean_elevation - arpa_1h_metadata['altitude1'])).round(2)\n",
    "cml_1h_metadata['Temp_corrected'] = (cml_1h_metadata['Temp'] + lapse_rate * (mean_elevation - cml_1h_metadata['altitude1'])).round(2)\n",
    "\n",
    "# Export\n",
    "arpa_1h_metadata.to_parquet(\"./Final_cleaned/ARPA_hourly_alt_corrected.parquet\", index=False)\n",
    "cml_1h_metadata.to_parquet(\"./Final_cleaned/CML_hourly_alt_corrected.parquet\", index=False)"
   ]
  },
  {
   "cell_type": "markdown",
   "id": "2f348ac2-a7b3-459a-9a02-7155dbad313c",
   "metadata": {},
   "source": [
    "# Plotting hourly data"
   ]
  },
  {
   "cell_type": "code",
   "execution_count": 7,
   "id": "0c780519-8abf-4609-a4b0-b746d3b46752",
   "metadata": {},
   "outputs": [],
   "source": [
    "# This is the original non-corrected elevation dataset\n",
    "arpa_1h = pd.read_parquet(\"./Final_cleaned/ARPA_hourly_alt_corrected.parquet\")\n",
    "CML_1h = pd.read_parquet(\"./Final_cleaned/CML_hourly_alt_corrected.parquet\")"
   ]
  },
  {
   "cell_type": "code",
   "execution_count": 9,
   "id": "eeff8947-e508-434f-9054-dc22c4e32bb3",
   "metadata": {},
   "outputs": [],
   "source": [
    "# This is the original non-corrected elevation dataset\n",
    "arpa_1h_metadata = pd.read_parquet(\"./Final_cleaned/ARPA_hourly_final_metadata.parquet\")\n",
    "cml_1h_metadata = pd.read_parquet(\"./Final_cleaned/CML_hourly_final_metadata.parquet\")\n",
    "\n",
    "# This is the only elevation-corrected dataset\n",
    "arpa_1h_alt_corr = pd.read_parquet(\"./Final_cleaned/ARPA_hourly_alt_corrected.parquet\")\n",
    "cml_1h_alt_corr = pd.read_parquet(\"./Final_cleaned/CML_hourly_alt_corrected.parquet\")"
   ]
  },
  {
   "cell_type": "code",
   "execution_count": 11,
   "id": "8d1cfa35-4460-4468-a192-79f46b7e9a16",
   "metadata": {},
   "outputs": [],
   "source": [
    "# This is the original non-corrected elevation dataset\n",
    "arpa_VS_1h = pd.read_parquet(\"./Final_cleaned/ARPA_VS_1h.parquet\")\n",
    "CML_VS_1h = pd.read_parquet(\"./Final_cleaned/CML_VS_1h.parquet\")"
   ]
  },
  {
   "cell_type": "code",
   "execution_count": 13,
   "id": "947fd3bd-a7aa-44f1-b220-fd1b0b2d701a",
   "metadata": {},
   "outputs": [
    {
     "data": {
      "text/html": [
       "<div>\n",
       "<style scoped>\n",
       "    .dataframe tbody tr th:only-of-type {\n",
       "        vertical-align: middle;\n",
       "    }\n",
       "\n",
       "    .dataframe tbody tr th {\n",
       "        vertical-align: top;\n",
       "    }\n",
       "\n",
       "    .dataframe thead th {\n",
       "        text-align: right;\n",
       "    }\n",
       "</style>\n",
       "<table border=\"1\" class=\"dataframe\">\n",
       "  <thead>\n",
       "    <tr style=\"text-align: right;\">\n",
       "      <th></th>\n",
       "      <th>Datetime</th>\n",
       "      <th>Temp</th>\n",
       "      <th>station</th>\n",
       "      <th>lat</th>\n",
       "      <th>long</th>\n",
       "      <th>Id</th>\n",
       "      <th>urban/natural</th>\n",
       "      <th>altitude1</th>\n",
       "      <th>Altitude-group</th>\n",
       "      <th>Temp_corrected</th>\n",
       "    </tr>\n",
       "  </thead>\n",
       "  <tbody>\n",
       "    <tr>\n",
       "      <th>0</th>\n",
       "      <td>2022-01-01 01:00:00</td>\n",
       "      <td>-0.11</td>\n",
       "      <td>abbiategrasso</td>\n",
       "      <td>45.381389</td>\n",
       "      <td>8.911667</td>\n",
       "      <td>abbiategrasso</td>\n",
       "      <td>urban</td>\n",
       "      <td>112.5</td>\n",
       "      <td>100-150</td>\n",
       "      <td>0.08</td>\n",
       "    </tr>\n",
       "    <tr>\n",
       "      <th>1</th>\n",
       "      <td>2022-01-01 02:00:00</td>\n",
       "      <td>-0.17</td>\n",
       "      <td>abbiategrasso</td>\n",
       "      <td>45.381389</td>\n",
       "      <td>8.911667</td>\n",
       "      <td>abbiategrasso</td>\n",
       "      <td>urban</td>\n",
       "      <td>112.5</td>\n",
       "      <td>100-150</td>\n",
       "      <td>0.02</td>\n",
       "    </tr>\n",
       "    <tr>\n",
       "      <th>2</th>\n",
       "      <td>2022-01-01 03:00:00</td>\n",
       "      <td>-0.37</td>\n",
       "      <td>abbiategrasso</td>\n",
       "      <td>45.381389</td>\n",
       "      <td>8.911667</td>\n",
       "      <td>abbiategrasso</td>\n",
       "      <td>urban</td>\n",
       "      <td>112.5</td>\n",
       "      <td>100-150</td>\n",
       "      <td>-0.18</td>\n",
       "    </tr>\n",
       "    <tr>\n",
       "      <th>3</th>\n",
       "      <td>2022-01-01 04:00:00</td>\n",
       "      <td>-0.39</td>\n",
       "      <td>abbiategrasso</td>\n",
       "      <td>45.381389</td>\n",
       "      <td>8.911667</td>\n",
       "      <td>abbiategrasso</td>\n",
       "      <td>urban</td>\n",
       "      <td>112.5</td>\n",
       "      <td>100-150</td>\n",
       "      <td>-0.20</td>\n",
       "    </tr>\n",
       "    <tr>\n",
       "      <th>4</th>\n",
       "      <td>2022-01-01 05:00:00</td>\n",
       "      <td>-0.61</td>\n",
       "      <td>abbiategrasso</td>\n",
       "      <td>45.381389</td>\n",
       "      <td>8.911667</td>\n",
       "      <td>abbiategrasso</td>\n",
       "      <td>urban</td>\n",
       "      <td>112.5</td>\n",
       "      <td>100-150</td>\n",
       "      <td>-0.42</td>\n",
       "    </tr>\n",
       "    <tr>\n",
       "      <th>...</th>\n",
       "      <td>...</td>\n",
       "      <td>...</td>\n",
       "      <td>...</td>\n",
       "      <td>...</td>\n",
       "      <td>...</td>\n",
       "      <td>...</td>\n",
       "      <td>...</td>\n",
       "      <td>...</td>\n",
       "      <td>...</td>\n",
       "      <td>...</td>\n",
       "    </tr>\n",
       "    <tr>\n",
       "      <th>551875</th>\n",
       "      <td>2022-12-31 20:00:00</td>\n",
       "      <td>NaN</td>\n",
       "      <td>zerbolo</td>\n",
       "      <td>45.227222</td>\n",
       "      <td>8.985000</td>\n",
       "      <td>zerbolo</td>\n",
       "      <td>urban</td>\n",
       "      <td>102.0</td>\n",
       "      <td>100-150</td>\n",
       "      <td>NaN</td>\n",
       "    </tr>\n",
       "    <tr>\n",
       "      <th>551876</th>\n",
       "      <td>2022-12-31 21:00:00</td>\n",
       "      <td>NaN</td>\n",
       "      <td>zerbolo</td>\n",
       "      <td>45.227222</td>\n",
       "      <td>8.985000</td>\n",
       "      <td>zerbolo</td>\n",
       "      <td>urban</td>\n",
       "      <td>102.0</td>\n",
       "      <td>100-150</td>\n",
       "      <td>NaN</td>\n",
       "    </tr>\n",
       "    <tr>\n",
       "      <th>551877</th>\n",
       "      <td>2022-12-31 22:00:00</td>\n",
       "      <td>NaN</td>\n",
       "      <td>zerbolo</td>\n",
       "      <td>45.227222</td>\n",
       "      <td>8.985000</td>\n",
       "      <td>zerbolo</td>\n",
       "      <td>urban</td>\n",
       "      <td>102.0</td>\n",
       "      <td>100-150</td>\n",
       "      <td>NaN</td>\n",
       "    </tr>\n",
       "    <tr>\n",
       "      <th>551878</th>\n",
       "      <td>2022-12-31 23:00:00</td>\n",
       "      <td>NaN</td>\n",
       "      <td>zerbolo</td>\n",
       "      <td>45.227222</td>\n",
       "      <td>8.985000</td>\n",
       "      <td>zerbolo</td>\n",
       "      <td>urban</td>\n",
       "      <td>102.0</td>\n",
       "      <td>100-150</td>\n",
       "      <td>NaN</td>\n",
       "    </tr>\n",
       "    <tr>\n",
       "      <th>551879</th>\n",
       "      <td>2023-01-01 00:00:00</td>\n",
       "      <td>NaN</td>\n",
       "      <td>zerbolo</td>\n",
       "      <td>45.227222</td>\n",
       "      <td>8.985000</td>\n",
       "      <td>zerbolo</td>\n",
       "      <td>urban</td>\n",
       "      <td>102.0</td>\n",
       "      <td>100-150</td>\n",
       "      <td>NaN</td>\n",
       "    </tr>\n",
       "  </tbody>\n",
       "</table>\n",
       "<p>551880 rows × 10 columns</p>\n",
       "</div>"
      ],
      "text/plain": [
       "                  Datetime  Temp        station        lat      long  \\\n",
       "0      2022-01-01 01:00:00 -0.11  abbiategrasso  45.381389  8.911667   \n",
       "1      2022-01-01 02:00:00 -0.17  abbiategrasso  45.381389  8.911667   \n",
       "2      2022-01-01 03:00:00 -0.37  abbiategrasso  45.381389  8.911667   \n",
       "3      2022-01-01 04:00:00 -0.39  abbiategrasso  45.381389  8.911667   \n",
       "4      2022-01-01 05:00:00 -0.61  abbiategrasso  45.381389  8.911667   \n",
       "...                    ...   ...            ...        ...       ...   \n",
       "551875 2022-12-31 20:00:00   NaN        zerbolo  45.227222  8.985000   \n",
       "551876 2022-12-31 21:00:00   NaN        zerbolo  45.227222  8.985000   \n",
       "551877 2022-12-31 22:00:00   NaN        zerbolo  45.227222  8.985000   \n",
       "551878 2022-12-31 23:00:00   NaN        zerbolo  45.227222  8.985000   \n",
       "551879 2023-01-01 00:00:00   NaN        zerbolo  45.227222  8.985000   \n",
       "\n",
       "                   Id urban/natural  altitude1 Altitude-group  Temp_corrected  \n",
       "0       abbiategrasso         urban      112.5        100-150            0.08  \n",
       "1       abbiategrasso         urban      112.5        100-150            0.02  \n",
       "2       abbiategrasso         urban      112.5        100-150           -0.18  \n",
       "3       abbiategrasso         urban      112.5        100-150           -0.20  \n",
       "4       abbiategrasso         urban      112.5        100-150           -0.42  \n",
       "...               ...           ...        ...            ...             ...  \n",
       "551875        zerbolo         urban      102.0        100-150             NaN  \n",
       "551876        zerbolo         urban      102.0        100-150             NaN  \n",
       "551877        zerbolo         urban      102.0        100-150             NaN  \n",
       "551878        zerbolo         urban      102.0        100-150             NaN  \n",
       "551879        zerbolo         urban      102.0        100-150             NaN  \n",
       "\n",
       "[551880 rows x 10 columns]"
      ]
     },
     "execution_count": 13,
     "metadata": {},
     "output_type": "execute_result"
    }
   ],
   "source": [
    "CML_1h"
   ]
  },
  {
   "cell_type": "code",
   "execution_count": 15,
   "id": "ae377e6a-cc4b-4d65-84e1-7209928f91e3",
   "metadata": {},
   "outputs": [],
   "source": [
    "# Ensure datetime columns are datetime type\n",
    "arpa_1h['Datetime'] = pd.to_datetime(arpa_1h['Datetime'])\n",
    "CML_1h['Datetime'] = pd.to_datetime(CML_1h['Datetime'])\n",
    "\n",
    "# Create dropdowns for station selection\n",
    "station_dropdown_cml = widgets.Dropdown(\n",
    "    options=sorted(CML_1h['station'].unique()),\n",
    "    description='CML Station:',\n",
    "    layout=widgets.Layout(width='50%')\n",
    ")\n",
    "\n",
    "station_dropdown_arpa = widgets.Dropdown(\n",
    "    options=sorted(arpa_1h['station'].unique()),\n",
    "    description='ARPA Station:',\n",
    "    layout=widgets.Layout(width='50%')\n",
    ")\n",
    "\n",
    "month_dropdown = widgets.Dropdown(\n",
    "    options=[('All', 'all')] + [(str(i), i) for i in range(1, 13)],\n",
    "    description='Month:',\n",
    "    layout=widgets.Layout(width='50%')\n",
    ")\n",
    "\n",
    "day_dropdown = widgets.Dropdown(\n",
    "    options=[('All', 'all')] + [(str(i), i) for i in range(1, 32)],\n",
    "    description='Day:',\n",
    "    layout=widgets.Layout(width='50%')\n",
    ")"
   ]
  },
  {
   "cell_type": "code",
   "execution_count": 17,
   "id": "5039c32a-7ebe-4f33-a5df-435755d22831",
   "metadata": {},
   "outputs": [
    {
     "data": {
      "application/vnd.jupyter.widget-view+json": {
       "model_id": "bb0b676af8d94ac3945b02225e97ac40",
       "version_major": 2,
       "version_minor": 0
      },
      "text/plain": [
       "interactive(children=(Dropdown(description='CML Station:', layout=Layout(width='50%'), options=('abbiategrasso…"
      ]
     },
     "metadata": {},
     "output_type": "display_data"
    },
    {
     "data": {
      "text/plain": [
       "<function __main__.plot_stations_cml_vs_arpa(cml_station, arpa_station, month, day)>"
      ]
     },
     "execution_count": 17,
     "metadata": {},
     "output_type": "execute_result"
    }
   ],
   "source": [
    "# Plotting function\n",
    "def plot_stations_cml_vs_arpa(cml_station, arpa_station, month, day):\n",
    "    df_cml = CML_1h[CML_1h['station'] == cml_station].copy()\n",
    "    df_arpa = arpa_1h[arpa_1h['station'] == arpa_station].copy()\n",
    "\n",
    "    df_cml = df_cml[df_cml['Datetime'].dt.year == 2022]\n",
    "    df_arpa = df_arpa[df_arpa['Datetime'].dt.year == 2022]\n",
    "\n",
    "    if month != 'all':\n",
    "        df_cml = df_cml[df_cml['Datetime'].dt.month == month]\n",
    "        df_arpa = df_arpa[df_arpa['Datetime'].dt.month == month]\n",
    "\n",
    "    if day != 'all':\n",
    "        df_cml = df_cml[df_cml['Datetime'].dt.day == day]\n",
    "        df_arpa = df_arpa[df_arpa['Datetime'].dt.day == day]\n",
    "\n",
    "    df_cml = df_cml.dropna(subset=['Temp', 'Datetime'])\n",
    "    df_arpa = df_arpa.dropna(subset=['Temp', 'Datetime'])\n",
    "\n",
    "    if df_cml.empty and df_arpa.empty:\n",
    "        print(\"No data available for this selection.\")\n",
    "        return\n",
    "\n",
    "    plt.figure(figsize=(15, 4))\n",
    "\n",
    "    if not df_cml.empty:\n",
    "        plt.plot(df_cml['Datetime'], df_cml['Temp'], label=f'CML {cml_station} Temp',\n",
    "                 color='tab:blue', marker='.', linestyle='-', markersize=1.5)\n",
    "\n",
    "    if not df_arpa.empty:\n",
    "        plt.plot(df_arpa['Datetime'], df_arpa['Temp'], label=f'ARPA {arpa_station} Temp',\n",
    "                 color='tab:orange', marker='.', linestyle='-', markersize=1.5)\n",
    "\n",
    "    title = f\"Temperature: CML {cml_station} vs ARPA {arpa_station} - \"\n",
    "    if month == 'all':\n",
    "        title += \"Full Year 2022\"\n",
    "    elif day == 'all':\n",
    "        title += f\"Month {month} (2022)\"\n",
    "    else:\n",
    "        title += f\"{month}/{day}/2022\"\n",
    "\n",
    "    plt.title(title)\n",
    "    plt.xlabel(\"Datetime\")\n",
    "    plt.ylabel(\"Temperature [°C]\")\n",
    "    plt.grid(True)\n",
    "\n",
    "    ax = plt.gca()\n",
    "    if month == 'all':\n",
    "        ax.xaxis.set_major_locator(mdates.MonthLocator())\n",
    "        ax.xaxis.set_major_formatter(mdates.DateFormatter('%b'))\n",
    "    elif day == 'all':\n",
    "        ax.xaxis.set_major_locator(mdates.DayLocator(interval=2))\n",
    "        ax.xaxis.set_major_formatter(mdates.DateFormatter('%d %b'))\n",
    "    else:\n",
    "        ax.xaxis.set_major_locator(mdates.HourLocator(interval=2))\n",
    "        ax.xaxis.set_major_formatter(mdates.DateFormatter('%H:%M'))\n",
    "\n",
    "    plt.xticks(rotation=45)\n",
    "    plt.legend()\n",
    "    plt.tight_layout()\n",
    "    plt.show()\n",
    "\n",
    "# Run interactive widget\n",
    "widgets.interact(\n",
    "    plot_stations_cml_vs_arpa,\n",
    "    cml_station=station_dropdown_cml,\n",
    "    arpa_station=station_dropdown_arpa,\n",
    "    month=month_dropdown,\n",
    "    day=day_dropdown\n",
    ")"
   ]
  },
  {
   "cell_type": "code",
   "execution_count": null,
   "id": "e7e63fa1-0c4f-4ab5-a858-996914ab8763",
   "metadata": {},
   "outputs": [],
   "source": [
    "CML_1h"
   ]
  },
  {
   "cell_type": "code",
   "execution_count": null,
   "id": "dd214335-9cbc-4cfd-89bc-585ae698ac12",
   "metadata": {},
   "outputs": [],
   "source": [
    "def plot_virtual_comparison(month, day):\n",
    "    # Use precomputed virtual station DataFrames\n",
    "    arpa_filtered = arpa_VS_1h.copy()\n",
    "    cml_virtual = cml_VS_1h.copy()\n",
    "\n",
    "    # Filter by year 2022\n",
    "    arpa_filtered = arpa_filtered[arpa_filtered['Datetime'].dt.year == 2022]\n",
    "    cml_virtual = cml_virtual[cml_virtual['Datetime'].dt.year == 2022]\n",
    "\n",
    "    # Filter by month\n",
    "    if month != 'all':\n",
    "        arpa_filtered = arpa_filtered[arpa_filtered['Datetime'].dt.month == month]\n",
    "        cml_virtual = cml_virtual[cml_virtual['Datetime'].dt.month == month]\n",
    "\n",
    "    # Filter by day\n",
    "    if day != 'all':\n",
    "        arpa_filtered = arpa_filtered[arpa_filtered['Datetime'].dt.day == day]\n",
    "        cml_virtual = cml_virtual[cml_virtual['Datetime'].dt.day == day]\n",
    "\n",
    "    # Drop NaNs\n",
    "    cml_virtual = cml_virtual.dropna(subset=['Temp_mean', 'Datetime'])\n",
    "    arpa_filtered = arpa_filtered.dropna(subset=['Temp_mean', 'Datetime'])\n",
    "\n",
    "    if cml_virtual.empty and arpa_filtered.empty:\n",
    "        print(\"No data available for this selection.\")\n",
    "        return\n",
    "\n",
    "    # Plotting\n",
    "    plt.figure(figsize=(15, 4))\n",
    "\n",
    "    plt.plot(cml_virtual['Datetime'], cml_virtual['Temp_mean'], color='tab:blue',\n",
    "             marker='.', linestyle='-', markersize=1.5, label='CML Virtual Temp')\n",
    "\n",
    "    plt.plot(arpa_filtered['Datetime'], arpa_filtered['Temp_mean'], color='tab:orange',\n",
    "             marker='.', linestyle='-', markersize=1.5, label='ARPA Virtual Temp')\n",
    "\n",
    "    # Title\n",
    "    title = \"CML Virtual vs ARPA Virtual - \"\n",
    "    if month == 'all':\n",
    "        title += \"Full Year 2022\"\n",
    "    elif day == 'all':\n",
    "        title += f\"Month {month} (2022)\"\n",
    "    else:\n",
    "        title += f\"{month}/{day}/2022\"\n",
    "    plt.title(title)\n",
    "    plt.xlabel(\"Datetime\")\n",
    "    plt.ylabel(\"Temperature [°C]\")\n",
    "    plt.grid(True)\n",
    "\n",
    "    # X-axis formatting\n",
    "    ax = plt.gca()\n",
    "    if month == 'all':\n",
    "        ax.xaxis.set_major_locator(mdates.MonthLocator())\n",
    "        ax.xaxis.set_major_formatter(mdates.DateFormatter('%b'))\n",
    "    elif day == 'all':\n",
    "        ax.xaxis.set_major_locator(mdates.DayLocator(interval=2))\n",
    "        ax.xaxis.set_major_formatter(mdates.DateFormatter('%d %b'))\n",
    "    else:\n",
    "        ax.xaxis.set_major_locator(mdates.HourLocator(interval=2))\n",
    "        ax.xaxis.set_major_formatter(mdates.DateFormatter('%H:%M'))\n",
    "\n",
    "    plt.xticks(rotation=45)\n",
    "    plt.legend()\n",
    "    plt.tight_layout()\n",
    "    plt.show()\n",
    "\n",
    "widgets.interact(plot_virtual_comparison, month=month_dropdown, day=day_dropdown)"
   ]
  },
  {
   "cell_type": "markdown",
   "id": "06b9aec9-03f5-4007-9704-c2f8229e2c09",
   "metadata": {},
   "source": [
    "**Plot average annual diurnal cycle of air temperatures for both CML and ARPA**"
   ]
  },
  {
   "cell_type": "code",
   "execution_count": null,
   "id": "14e0df9b-5fe2-4617-9b21-d682c4238dff",
   "metadata": {},
   "outputs": [],
   "source": [
    "sns.set(style=\"whitegrid\")\n",
    "plt.rcParams.update({\n",
    "    'font.size': 12,\n",
    "    'axes.labelsize': 14,\n",
    "    'axes.titlesize': 16,\n",
    "    'legend.fontsize': 12,\n",
    "    'xtick.labelsize': 11,\n",
    "    'ytick.labelsize': 11\n",
    "})\n",
    "\n",
    "# Combine both into one tidy DataFrame\n",
    "combined = pd.concat([arpa_VS_1h, cml_VS_1h], ignore_index=True)\n",
    "combined['Datetime'] = pd.to_datetime(combined['Datetime'])\n",
    "combined['hour'] = combined['Datetime'].dt.hour\n",
    "\n",
    "# Compute diurnal average per source\n",
    "diurnal = combined.groupby(['station', 'hour'])['Temp_mean'].mean().reset_index()\n",
    "\n",
    "# Use flat, sharp custom colors\n",
    "palette = ['#E45756', '#4C78A8']  # red and blue\n",
    "\n",
    "plt.figure(figsize=(8, 5))\n",
    "sns.lineplot(data=diurnal, x='hour', y='Temp_mean', hue='station', marker='o', palette=palette)\n",
    "\n",
    "plt.title('Annual Mean Daily Average Temperature')\n",
    "plt.xlabel('Hour of Day')\n",
    "plt.ylabel('Temperature [°C]')\n",
    "plt.xticks(range(0, 24, 2))\n",
    "plt.legend(title='')\n",
    "plt.tight_layout()\n",
    "\n",
    "#plt.savefig(\"diurnal_temp_clean.png\", dpi=300)\n",
    "plt.show()"
   ]
  },
  {
   "cell_type": "code",
   "execution_count": null,
   "id": "aacda8f4-a292-41b2-94e2-800e5eff17f5",
   "metadata": {},
   "outputs": [],
   "source": [
    "# SEASONAL MEAN DAILY AVERAGE\n",
    "\n",
    "arpa_1h_metadata['source'] = 'ARPA'\n",
    "cml_1h_metadata['source'] = 'CML'\n",
    "\n",
    "# Process timestamps\n",
    "combined['Datetime'] = pd.to_datetime(combined['Datetime'])\n",
    "combined['hour'] = combined['Datetime'].dt.hour\n",
    "combined['month'] = combined['Datetime'].dt.month\n",
    "\n",
    "# Assign season\n",
    "def get_season(month):\n",
    "    if month in [12, 1, 2]: return 'Winter'\n",
    "    elif month in [3, 4, 5]: return 'Spring'\n",
    "    elif month in [6, 7, 8]: return 'Summer'\n",
    "    else: return 'Fall'\n",
    "\n",
    "combined['season'] = combined['month'].apply(get_season)\n",
    "\n",
    "# === LINE PLOT of Temp ===\n",
    "\n",
    "season_colors = {\n",
    "    'Winter': '#1f77b4',\n",
    "    'Spring': '#2ca02c',\n",
    "    'Summer': '#ff7f0e',\n",
    "    'Fall':   '#9467bd'\n",
    "}\n",
    "\n",
    "marker_styles = {\n",
    "    'ARPA': 'o',\n",
    "    'CML': 's'\n",
    "}\n",
    "\n",
    "sns.set_style(\"whitegrid\", {'xtick.direction': 'out', 'ytick.direction': 'out'})\n",
    "\n",
    "fig, ax = plt.subplots(figsize=(12, 8))\n",
    "\n",
    "for season in ['Winter', 'Spring', 'Summer', 'Fall']:\n",
    "    df_season = combined[combined['season'] == season]\n",
    "    stats = df_season.groupby(['source', 'hour'])['Temp'].mean().reset_index()\n",
    "\n",
    "    for source in ['ARPA', 'CML']:\n",
    "        stats_src = stats[stats['source'] == source]\n",
    "        ax.plot(\n",
    "            stats_src['hour'], stats_src['Temp'],\n",
    "            label=f\"{season} - {source}\",\n",
    "            marker=marker_styles[source],\n",
    "            linestyle='-' if source == 'ARPA' else '--',\n",
    "            color=season_colors[season]\n",
    "        )\n",
    "\n",
    "# Set x ticks 0-23, format as HH:00\n",
    "ax.set_xticks(range(24))\n",
    "ax.xaxis.set_major_formatter(mticker.FuncFormatter(lambda x, _: f\"{int(x):02d}:00\"))\n",
    "\n",
    "ax.set_xlabel(\"Hour\", size=16)\n",
    "ax.set_ylabel(\"Temp (°C)\", size=16)\n",
    "ax.set_ylim(0, 35)\n",
    "ax.legend(fontsize=12, ncol=2)\n",
    "\n",
    "# Make sure to set tick params *after* plotting and style\n",
    "ax.tick_params(axis='both', direction='out', color='black', length=6, width=1.5)\n",
    "\n",
    "plt.xticks(fontsize=12, rotation=-45)\n",
    "plt.yticks(fontsize=12)\n",
    "#plt.savefig('seasonal_diurnal_variation_ARPA_CML.png')\n",
    "plt.tight_layout()\n",
    "plt.show()\n",
    "\n",
    "# === HISTOGRAMS OF AVERAGE HOURLY DIFFERENCES ===\n",
    "\n",
    "fig, axes = plt.subplots(4, 1, figsize=(8, 8), sharex=True, sharey=True)\n",
    "axes = axes.flatten()\n",
    "\n",
    "for i, season in enumerate(['Winter', 'Spring', 'Summer', 'Fall']):\n",
    "    df_season = combined[combined['season'] == season]\n",
    "\n",
    "    # Pivot to align ARPA and CML temps by hour and timestamp\n",
    "    pivot = df_season.pivot_table(index=['Datetime', 'hour'], columns='source', values='Temp')\n",
    "    pivot['diff'] = pivot['CML'] - pivot['ARPA']\n",
    "    pivot = pivot.dropna(subset=['diff'])\n",
    "\n",
    "    # Average difference per hour\n",
    "    hourly_avg_diff = pivot.groupby('hour')['diff'].mean().reset_index()\n",
    "\n",
    "    ax = axes[i]\n",
    "    sns.barplot(\n",
    "        data=hourly_avg_diff, x='hour', y='diff',\n",
    "        ax=ax, color=season_colors[season]\n",
    "    )\n",
    "    # Format x-axis ticks as HH:00\n",
    "    ax.set_xticks(range(24))\n",
    "    ax.xaxis.set_major_formatter(mticker.FuncFormatter(lambda x, _: f\"{int(x):02d}:00\"))\n",
    "    ax.set_title(f\"{season} - Mean Hourly Temp Difference (CML - ARPA)\")\n",
    "    ax.set_ylabel(\"Mean ΔT (°C)\", size=12)\n",
    "    ax.set_xlabel(\"Hour\", size=12)\n",
    "    ax.axhline(0, color='black', linewidth=0.8, linestyle='--')\n",
    "    \n",
    "plt.xticks(fontsize=10, rotation=-45)\n",
    "yticks = [-0.75, -0.5, -0.25, 0, 0.25]\n",
    "for ax in axes:\n",
    "    ax.set_yticks(yticks)\n",
    "#plt.savefig('seasonal_diurnal_variation_ARPA_CML_diffs.png')\n",
    "plt.tight_layout()\n",
    "plt.show()"
   ]
  },
  {
   "cell_type": "code",
   "execution_count": null,
   "id": "12a8145a-68db-4a90-8529-47fa53943f49",
   "metadata": {},
   "outputs": [],
   "source": [
    "# SEASONAL MEAN DAILY AVERAGE PER URBAN/NATURAL STATIONS\n",
    "\n",
    "# Add source column and combine data\n",
    "arpa_1h_alt_corr['source'] = 'ARPA'\n",
    "cml_1h_alt_corr['source'] = 'CML'\n",
    "combined = pd.concat([arpa_1h_alt_corr, cml_1h_alt_corr], ignore_index=True)\n",
    "\n",
    "# Count Urban and Natural Stations\n",
    "print(\"--- Station Counts ---\")\n",
    "\n",
    "# Count for ARPA\n",
    "if 'urban/natural' in arpa_1h_alt_corr.columns and 'station' in arpa_1h_alt_corr.columns:\n",
    "    arpa_station_counts = arpa_1h_alt_corr.groupby('urban/natural')['station'].nunique()\n",
    "    print(\"\\nARPA Stations:\")\n",
    "    print(arpa_station_counts)\n",
    "else:\n",
    "    print(\"\\nARPA data does not contain 'urban/natural' or 'station' column for counting.\")\n",
    "\n",
    "# Count for CML\n",
    "if 'urban/natural' in cml_1h_alt_corr.columns and 'station' in cml_1h_alt_corr.columns:\n",
    "    cml_station_counts = cml_1h_alt_corr.groupby('urban/natural')['station'].nunique()\n",
    "    print(\"\\nCML Stations:\")\n",
    "    print(cml_station_counts)\n",
    "else:\n",
    "    print(\"\\nCML data does not contain 'urban/natural' or 'station' column for counting.\")\n",
    "\n",
    "print(\"----------------------\\n\")\n",
    "\n",
    "# Filter to only show natural ARPA/CML stations (as per original code's intent)\n",
    "combined = combined[combined['urban/natural'] == 'natural'].copy() # .copy() to avoid SettingWithCopyWarning\n",
    "\n",
    "# Process timestamps\n",
    "combined['Datetime'] = pd.to_datetime(combined['Datetime'])\n",
    "combined['hour'] = combined['Datetime'].dt.hour\n",
    "combined['month'] = combined['Datetime'].dt.month\n",
    "\n",
    "# Assign season based on month\n",
    "def get_season(month):\n",
    "    if month in [12, 1, 2]: return 'Winter'\n",
    "    elif month in [3, 4, 5]: return 'Spring'\n",
    "    elif month in [6, 7, 8]: return 'Summer'\n",
    "    else: return 'Fall'\n",
    "\n",
    "combined['season'] = combined['month'].apply(get_season)\n",
    "\n",
    "# === LINE PLOT of Temp ===\n",
    "# Define colors and marker styles for plotting\n",
    "season_colors = {\n",
    "    'Winter': '#1f77b4',\n",
    "    'Spring': '#2ca02c',\n",
    "    'Summer': '#ff7f0e',\n",
    "    'Fall':   '#9467bd'\n",
    "}\n",
    "\n",
    "marker_styles = {\n",
    "    'ARPA': 'o',\n",
    "    'CML': 's'\n",
    "}\n",
    "\n",
    "# Set seaborn style for plots\n",
    "sns.set_style(\"whitegrid\", {'xtick.direction': 'out', 'ytick.direction': 'out'})\n",
    "\n",
    "# Create the figure and axes for the line plot\n",
    "fig, ax = plt.subplots(figsize=(12, 8))\n",
    "\n",
    "# Iterate through each season to plot temperature variations\n",
    "for season in ['Winter', 'Spring', 'Summer', 'Fall']:\n",
    "    df_season = combined[combined['season'] == season]\n",
    "    # Ensure there's data for the current season after filtering\n",
    "    if not df_season.empty:\n",
    "        # Calculate mean temperature per hour for each source\n",
    "        stats = df_season.groupby(['source', 'hour'])['Temp_corrected'].mean().reset_index()\n",
    "\n",
    "        for source in ['ARPA', 'CML']:\n",
    "            stats_src = stats[stats['source'] == source]\n",
    "            # Only plot if there's data for the source\n",
    "            if not stats_src.empty:\n",
    "                ax.plot(\n",
    "                    stats_src['hour'], stats_src['Temp_corrected'],\n",
    "                    label=f\"{season} - {source}\",\n",
    "                    marker=marker_styles[source],\n",
    "                    linestyle='-' if source == 'ARPA' else '--',\n",
    "                    color=season_colors[season]\n",
    "                )\n",
    "\n",
    "# Set x-axis ticks from 0 to 23 and format as HH:00\n",
    "ax.set_xticks(range(24))\n",
    "ax.xaxis.set_major_formatter(mticker.FuncFormatter(lambda x, _: f\"{int(x):02d}:00\"))\n",
    "\n",
    "# Set labels and limits for the plot\n",
    "ax.set_xlabel(\"Hour\", size=16)\n",
    "ax.set_ylabel(\"Temp (°C)\", size=16)\n",
    "ax.set_ylim(0, 35)\n",
    "ax.legend(fontsize=12, ncol=2)\n",
    "\n",
    "# Set tick parameters\n",
    "ax.tick_params(axis='both', direction='out', color='black', length=6, width=1.5)\n",
    "\n",
    "# Adjust tick label font sizes and rotation\n",
    "plt.xticks(fontsize=12, rotation=-45)\n",
    "plt.yticks(fontsize=12)\n",
    "#plt.savefig('seasonal_diurnal_variation_ARPA_CML_natural.png')\n",
    "plt.tight_layout()\n",
    "plt.show()\n",
    "\n",
    "# === HISTOGRAMS OF AVERAGE HOURLY DIFFERENCES ===\n",
    "# Create figure and axes for histograms of differences\n",
    "fig, axes = plt.subplots(4, 1, figsize=(8, 8), sharex=True, sharey=True)\n",
    "axes = axes.flatten()\n",
    "\n",
    "# Iterate through each season to plot hourly temperature differences\n",
    "for i, season in enumerate(['Winter', 'Spring', 'Summer', 'Fall']):\n",
    "    df_season = combined[combined['season'] == season]\n",
    "\n",
    "    # Only proceed if there's data for the current season after filtering\n",
    "    if not df_season.empty:\n",
    "        # Pivot to align ARPA and CML temps by timestamp and hour\n",
    "        pivot = df_season.pivot_table(index=['Datetime', 'hour'], columns='source', values='Temp_corrected')\n",
    "        \n",
    "        # Ensure both 'CML' and 'ARPA' columns exist after pivoting\n",
    "        if 'CML' in pivot.columns and 'ARPA' in pivot.columns:\n",
    "            pivot['diff'] = pivot['CML'] - pivot['ARPA'] # Calculate difference\n",
    "            pivot = pivot.dropna(subset=['diff']) # Drop rows with missing differences\n",
    "\n",
    "            # Calculate average difference per hour\n",
    "            hourly_avg_diff = pivot.groupby('hour')['diff'].mean().reset_index()\n",
    "\n",
    "            ax = axes[i]\n",
    "            sns.barplot(\n",
    "                data=hourly_avg_diff, x='hour', y='diff',\n",
    "                ax=ax, color=season_colors[season]\n",
    "            )\n",
    "            # Format x-axis ticks as HH:00\n",
    "            ax.set_xticks(range(24))\n",
    "            ax.xaxis.set_major_formatter(mticker.FuncFormatter(lambda x, _: f\"{int(x):02d}:00\"))\n",
    "            ax.set_title(f\"{season} - Mean Hourly Temp Difference (CML - ARPA) - Natural Stations\") # Changed title\n",
    "            ax.set_ylabel(\"Mean ΔT (°C)\", size=12)\n",
    "            ax.set_xlabel(\"Hour\", size=12)\n",
    "            ax.axhline(0, color='black', linewidth=0.8, linestyle='--')\n",
    "        else:\n",
    "            # If one of the sources is missing for natural stations in a season, clear the subplot\n",
    "            ax = axes[i]\n",
    "            ax.set_title(f\"{season} - No sufficient data for natural CML-ARPA diff\")\n",
    "            ax.set_xticks(range(24))\n",
    "            ax.xaxis.set_major_formatter(mticker.FuncFormatter(lambda x, _: f\"{int(x):02d}:00\"))\n",
    "            ax.set_ylabel(\"Mean ΔT (°C)\", size=12)\n",
    "            ax.set_xlabel(\"Hour\", size=12)\n",
    "            ax.set_ylim(-1, 1) # Set a default y-limit even if no data\n",
    "            print(f\"Warning: Not enough 'CML' or 'ARPA' data for natural stations in {season} to calculate difference.\")\n",
    "    else:\n",
    "        # If no natural data for the season, clear the subplot\n",
    "        ax = axes[i]\n",
    "        ax.set_title(f\"{season} - No natural data available\")\n",
    "        ax.set_xticks(range(24))\n",
    "        ax.xaxis.set_major_formatter(mticker.FuncFormatter(lambda x, _: f\"{int(x):02d}:00\"))\n",
    "        ax.set_ylabel(\"Mean ΔT (°C)\", size=12)\n",
    "        ax.set_xlabel(\"Hour\", size=12)\n",
    "        ax.set_ylim(-1, 1) # Set a default y-limit even if no data\n",
    "\n",
    "\n",
    "plt.xticks(fontsize=10, rotation=-45)\n",
    "yticks = [-1.0, -0.75, -0.5, -0.25, 0, 0.25]\n",
    "for ax in axes:\n",
    "    ax.set_yticks(yticks)\n",
    "#plt.savefig('seasonal_diurnal_variation_ARPA_CML_diffs_natural.png')\n",
    "plt.tight_layout()\n",
    "plt.show()\n",
    "\n",
    "# === RMSE Calculation for each season ===\n",
    "print(\"\\n--- RMSE Calculation (CML vs. ARPA) for Natural Stations ---\")\n",
    "\n",
    "for season in ['Winter', 'Spring', 'Summer', 'Fall']:\n",
    "    df_season = combined[combined['season'] == season]\n",
    "\n",
    "    if not df_season.empty:\n",
    "        # Pivot to align ARPA and CML temperatures for RMSE calculation\n",
    "        pivot_rmse = df_season.pivot_table(index='Datetime', columns='source', values='Temp_corrected')\n",
    "        \n",
    "        # Ensure both 'CML' and 'ARPA' columns exist and drop rows with any missing values\n",
    "        if 'CML' in pivot_rmse.columns and 'ARPA' in pivot_rmse.columns:\n",
    "            pivot_rmse = pivot_rmse.dropna(subset=['CML', 'ARPA'])\n",
    "\n",
    "            if not pivot_rmse.empty:\n",
    "                # Calculate RMSE\n",
    "                rmse = np.sqrt(mean_squared_error(pivot_rmse['CML'], pivot_rmse['ARPA']))\n",
    "                print(f\"{season} RMSE: {rmse:.3f} °C\")\n",
    "            else:\n",
    "                print(f\"No overlapping CML and ARPA temperature data for RMSE calculation in {season}.\")\n",
    "        else:\n",
    "            print(f\"Missing 'CML' or 'ARPA' temperature data for RMSE calculation in {season}.\")\n",
    "    else:\n",
    "        print(f\"No natural station data available for {season} to calculate RMSE.\")\n",
    "\n",
    "print(\"----------------------------------------------------------\")"
   ]
  },
  {
   "cell_type": "code",
   "execution_count": null,
   "id": "1c2fffa9-d7cb-4e7d-8d38-d62c3e92c9d6",
   "metadata": {},
   "outputs": [],
   "source": [
    "arpa_df = pd.read_parquet(\"./Final_cleaned/ARPA_VS_1h.parquet\")\n",
    "cml_df = pd.read_parquet(\"./Final_cleaned/CML_VS_1h.parquet\")\n",
    "\n",
    "# Filter for 2022\n",
    "arpa_df = arpa_df[arpa_df['Datetime'].dt.year == 2022]\n",
    "cml_df = cml_df[cml_df['Datetime'].dt.year == 2022]\n",
    "\n",
    "# Drop NaNs\n",
    "arpa_df = arpa_df.dropna(subset=['Temp_mean', 'Datetime'])\n",
    "cml_df = cml_df.dropna(subset=['Temp_mean', 'Datetime'])\n",
    "\n",
    "# Compute daily means\n",
    "arpa_daily = arpa_df.resample('D', on='Datetime').mean(numeric_only=True).reset_index()\n",
    "cml_daily = cml_df.resample('D', on='Datetime').mean(numeric_only=True).reset_index()\n",
    "\n",
    "# Rolling mean (7-day)\n",
    "arpa_daily['Temp_mean_roll'] = arpa_daily['Temp_mean'].rolling(window=7, center=True).mean()\n",
    "cml_daily['Temp_mean_roll'] = cml_daily['Temp_mean'].rolling(window=7, center=True).mean()\n",
    "\n",
    "# Merge for difference\n",
    "merged = pd.merge(arpa_daily[['Datetime', 'Temp_mean']], \n",
    "                  cml_daily[['Datetime', 'Temp_mean']], \n",
    "                  on='Datetime', suffixes=('_arpa', '_cml'))\n",
    "merged['diff'] = merged['Temp_mean_arpa'] - merged['Temp_mean_cml']\n",
    "\n",
    "# Compute RMSE\n",
    "rmse = np.sqrt(np.mean((merged['Temp_mean_arpa'] - merged['Temp_mean_cml'])**2))\n",
    "\n",
    "# Plot\n",
    "fig, (ax1, ax2) = plt.subplots(2, 1, figsize=(8, 8), sharex=True, gridspec_kw={'height_ratios': [2, 1]})\n",
    "\n",
    "# Top panel: ARPA & CML daily temps\n",
    "ax1.plot(arpa_daily['Datetime'], arpa_daily['Temp_mean'], 'o', color='#1e90ff', alpha=0.3, markersize=2, label='ARPA Daily')\n",
    "ax1.plot(cml_daily['Datetime'], cml_daily['Temp_mean'], 'o', color='black', alpha=0.3, markersize=2, label='CML Daily')\n",
    "\n",
    "ax1.plot(arpa_daily['Datetime'], arpa_daily['Temp_mean_roll'], '-', color='#1e90ff', label='ARPA 7d Mean')\n",
    "ax1.plot(cml_daily['Datetime'], cml_daily['Temp_mean_roll'], '-', color='black', label='CML 7d Mean')\n",
    "\n",
    "ax1.set_ylabel('Temperature [°C]')\n",
    "ax1.set_title('Daily Air Temperature - CML vs ARPA (2022)')\n",
    "ax1.legend()\n",
    "ax1.grid(True)\n",
    "\n",
    "# Bottom panel: Difference\n",
    "ax2.plot(merged['Datetime'], merged['diff'], '-', color='tab:gray')\n",
    "ax2.axhline(0, color='black', linestyle='--', linewidth=0.8)\n",
    "ax2.set_ylabel('ΔTemp [°C]')\n",
    "ax2.set_ylim(bottom=-0.2)\n",
    "ax2.set_xlabel('Date')\n",
    "ax2.set_title('Daily Temperature Difference (ARPA − CML)')\n",
    "ax2.grid(True)\n",
    "\n",
    "# Annotate RMSE\n",
    "ax2.text(0.99, 0.95, f'RMSE = {rmse:.2f} °C', transform=ax2.transAxes,\n",
    "         ha='right', va='top', fontsize=10, bbox=dict(facecolor='white', edgecolor='black', boxstyle='round,pad=0.3'))\n",
    "\n",
    "# X-axis formatting\n",
    "ax2.xaxis.set_major_locator(mdates.MonthLocator())\n",
    "ax2.xaxis.set_major_formatter(mdates.DateFormatter('%b'))\n",
    "plt.xticks(rotation=45)\n",
    "\n",
    "plt.tight_layout()\n",
    "plt.savefig(\"../../Manuscript_Preparation/figures/Final_figures/Fig3.png\", dpi=600)\n",
    "plt.show()"
   ]
  },
  {
   "cell_type": "code",
   "execution_count": null,
   "id": "9636f8b5-ff22-48a4-934f-ba920def0b2e",
   "metadata": {},
   "outputs": [],
   "source": [
    "pwd"
   ]
  },
  {
   "cell_type": "markdown",
   "id": "f527247d-1c35-4589-a093-821ebd854baa",
   "metadata": {},
   "source": [
    "# Test of stations with different altitude"
   ]
  },
  {
   "cell_type": "code",
   "execution_count": 1,
   "id": "b0ee9b90-df42-40f4-b41a-cb7ef4e8774f",
   "metadata": {},
   "outputs": [],
   "source": [
    "from scipy.stats import f_oneway\n",
    "from statsmodels.stats.multicomp import pairwise_tukeyhsd"
   ]
  },
  {
   "cell_type": "code",
   "execution_count": 10,
   "id": "afcfa7df-8b40-496e-bdad-e260ed5ce2eb",
   "metadata": {},
   "outputs": [],
   "source": [
    "# This is the original non-corrected elevation dataset\n",
    "arpa_1h_metadata = pd.read_parquet(\"./Final_cleaned/ARPA_hourly_alt_corrected.parquet\")\n",
    "cml_1h_metadata = pd.read_parquet(\"./Final_cleaned/CML_hourly_alt_corrected.parquet\")"
   ]
  },
  {
   "cell_type": "code",
   "execution_count": 11,
   "id": "34f1eda1-0957-465a-a620-cbf4ea3da5f1",
   "metadata": {},
   "outputs": [],
   "source": [
    "combined_df = pd.concat([arpa_1h_metadata, cml_1h_metadata], ignore_index=True)"
   ]
  },
  {
   "cell_type": "code",
   "execution_count": 12,
   "id": "8cbe0b57-b30e-45c6-8eff-7d5b436d7d54",
   "metadata": {},
   "outputs": [
    {
     "data": {
      "text/html": [
       "<div>\n",
       "<style scoped>\n",
       "    .dataframe tbody tr th:only-of-type {\n",
       "        vertical-align: middle;\n",
       "    }\n",
       "\n",
       "    .dataframe tbody tr th {\n",
       "        vertical-align: top;\n",
       "    }\n",
       "\n",
       "    .dataframe thead th {\n",
       "        text-align: right;\n",
       "    }\n",
       "</style>\n",
       "<table border=\"1\" class=\"dataframe\">\n",
       "  <thead>\n",
       "    <tr style=\"text-align: right;\">\n",
       "      <th></th>\n",
       "      <th>Datetime</th>\n",
       "      <th>Temp</th>\n",
       "      <th>Id</th>\n",
       "      <th>station</th>\n",
       "      <th>lat</th>\n",
       "      <th>long</th>\n",
       "      <th>urban/natural</th>\n",
       "      <th>altitude1</th>\n",
       "      <th>Altitude-group</th>\n",
       "      <th>Temp_corrected</th>\n",
       "    </tr>\n",
       "  </thead>\n",
       "  <tbody>\n",
       "    <tr>\n",
       "      <th>0</th>\n",
       "      <td>2022-01-01 01:00:00</td>\n",
       "      <td>-0.55</td>\n",
       "      <td>2001</td>\n",
       "      <td>Milano Lambrate</td>\n",
       "      <td>45.496780</td>\n",
       "      <td>9.257515</td>\n",
       "      <td>natural</td>\n",
       "      <td>121.5</td>\n",
       "      <td>100-150</td>\n",
       "      <td>-0.42</td>\n",
       "    </tr>\n",
       "    <tr>\n",
       "      <th>1</th>\n",
       "      <td>2022-01-01 02:00:00</td>\n",
       "      <td>-0.42</td>\n",
       "      <td>2001</td>\n",
       "      <td>Milano Lambrate</td>\n",
       "      <td>45.496780</td>\n",
       "      <td>9.257515</td>\n",
       "      <td>natural</td>\n",
       "      <td>121.5</td>\n",
       "      <td>100-150</td>\n",
       "      <td>-0.29</td>\n",
       "    </tr>\n",
       "    <tr>\n",
       "      <th>2</th>\n",
       "      <td>2022-01-01 03:00:00</td>\n",
       "      <td>0.68</td>\n",
       "      <td>2001</td>\n",
       "      <td>Milano Lambrate</td>\n",
       "      <td>45.496780</td>\n",
       "      <td>9.257515</td>\n",
       "      <td>natural</td>\n",
       "      <td>121.5</td>\n",
       "      <td>100-150</td>\n",
       "      <td>0.81</td>\n",
       "    </tr>\n",
       "    <tr>\n",
       "      <th>3</th>\n",
       "      <td>2022-01-01 04:00:00</td>\n",
       "      <td>1.38</td>\n",
       "      <td>2001</td>\n",
       "      <td>Milano Lambrate</td>\n",
       "      <td>45.496780</td>\n",
       "      <td>9.257515</td>\n",
       "      <td>natural</td>\n",
       "      <td>121.5</td>\n",
       "      <td>100-150</td>\n",
       "      <td>1.51</td>\n",
       "    </tr>\n",
       "    <tr>\n",
       "      <th>4</th>\n",
       "      <td>2022-01-01 05:00:00</td>\n",
       "      <td>0.75</td>\n",
       "      <td>2001</td>\n",
       "      <td>Milano Lambrate</td>\n",
       "      <td>45.496780</td>\n",
       "      <td>9.257515</td>\n",
       "      <td>natural</td>\n",
       "      <td>121.5</td>\n",
       "      <td>100-150</td>\n",
       "      <td>0.88</td>\n",
       "    </tr>\n",
       "    <tr>\n",
       "      <th>...</th>\n",
       "      <td>...</td>\n",
       "      <td>...</td>\n",
       "      <td>...</td>\n",
       "      <td>...</td>\n",
       "      <td>...</td>\n",
       "      <td>...</td>\n",
       "      <td>...</td>\n",
       "      <td>...</td>\n",
       "      <td>...</td>\n",
       "      <td>...</td>\n",
       "    </tr>\n",
       "    <tr>\n",
       "      <th>849715</th>\n",
       "      <td>2022-12-31 20:00:00</td>\n",
       "      <td>NaN</td>\n",
       "      <td>zerbolo</td>\n",
       "      <td>zerbolo</td>\n",
       "      <td>45.227222</td>\n",
       "      <td>8.985000</td>\n",
       "      <td>urban</td>\n",
       "      <td>102.0</td>\n",
       "      <td>100-150</td>\n",
       "      <td>NaN</td>\n",
       "    </tr>\n",
       "    <tr>\n",
       "      <th>849716</th>\n",
       "      <td>2022-12-31 21:00:00</td>\n",
       "      <td>NaN</td>\n",
       "      <td>zerbolo</td>\n",
       "      <td>zerbolo</td>\n",
       "      <td>45.227222</td>\n",
       "      <td>8.985000</td>\n",
       "      <td>urban</td>\n",
       "      <td>102.0</td>\n",
       "      <td>100-150</td>\n",
       "      <td>NaN</td>\n",
       "    </tr>\n",
       "    <tr>\n",
       "      <th>849717</th>\n",
       "      <td>2022-12-31 22:00:00</td>\n",
       "      <td>NaN</td>\n",
       "      <td>zerbolo</td>\n",
       "      <td>zerbolo</td>\n",
       "      <td>45.227222</td>\n",
       "      <td>8.985000</td>\n",
       "      <td>urban</td>\n",
       "      <td>102.0</td>\n",
       "      <td>100-150</td>\n",
       "      <td>NaN</td>\n",
       "    </tr>\n",
       "    <tr>\n",
       "      <th>849718</th>\n",
       "      <td>2022-12-31 23:00:00</td>\n",
       "      <td>NaN</td>\n",
       "      <td>zerbolo</td>\n",
       "      <td>zerbolo</td>\n",
       "      <td>45.227222</td>\n",
       "      <td>8.985000</td>\n",
       "      <td>urban</td>\n",
       "      <td>102.0</td>\n",
       "      <td>100-150</td>\n",
       "      <td>NaN</td>\n",
       "    </tr>\n",
       "    <tr>\n",
       "      <th>849719</th>\n",
       "      <td>2023-01-01 00:00:00</td>\n",
       "      <td>NaN</td>\n",
       "      <td>zerbolo</td>\n",
       "      <td>zerbolo</td>\n",
       "      <td>45.227222</td>\n",
       "      <td>8.985000</td>\n",
       "      <td>urban</td>\n",
       "      <td>102.0</td>\n",
       "      <td>100-150</td>\n",
       "      <td>NaN</td>\n",
       "    </tr>\n",
       "  </tbody>\n",
       "</table>\n",
       "<p>849720 rows × 10 columns</p>\n",
       "</div>"
      ],
      "text/plain": [
       "                  Datetime  Temp       Id          station        lat  \\\n",
       "0      2022-01-01 01:00:00 -0.55     2001  Milano Lambrate  45.496780   \n",
       "1      2022-01-01 02:00:00 -0.42     2001  Milano Lambrate  45.496780   \n",
       "2      2022-01-01 03:00:00  0.68     2001  Milano Lambrate  45.496780   \n",
       "3      2022-01-01 04:00:00  1.38     2001  Milano Lambrate  45.496780   \n",
       "4      2022-01-01 05:00:00  0.75     2001  Milano Lambrate  45.496780   \n",
       "...                    ...   ...      ...              ...        ...   \n",
       "849715 2022-12-31 20:00:00   NaN  zerbolo          zerbolo  45.227222   \n",
       "849716 2022-12-31 21:00:00   NaN  zerbolo          zerbolo  45.227222   \n",
       "849717 2022-12-31 22:00:00   NaN  zerbolo          zerbolo  45.227222   \n",
       "849718 2022-12-31 23:00:00   NaN  zerbolo          zerbolo  45.227222   \n",
       "849719 2023-01-01 00:00:00   NaN  zerbolo          zerbolo  45.227222   \n",
       "\n",
       "            long urban/natural  altitude1 Altitude-group  Temp_corrected  \n",
       "0       9.257515       natural      121.5        100-150           -0.42  \n",
       "1       9.257515       natural      121.5        100-150           -0.29  \n",
       "2       9.257515       natural      121.5        100-150            0.81  \n",
       "3       9.257515       natural      121.5        100-150            1.51  \n",
       "4       9.257515       natural      121.5        100-150            0.88  \n",
       "...          ...           ...        ...            ...             ...  \n",
       "849715  8.985000         urban      102.0        100-150             NaN  \n",
       "849716  8.985000         urban      102.0        100-150             NaN  \n",
       "849717  8.985000         urban      102.0        100-150             NaN  \n",
       "849718  8.985000         urban      102.0        100-150             NaN  \n",
       "849719  8.985000         urban      102.0        100-150             NaN  \n",
       "\n",
       "[849720 rows x 10 columns]"
      ]
     },
     "execution_count": 12,
     "metadata": {},
     "output_type": "execute_result"
    }
   ],
   "source": [
    "combined_df"
   ]
  },
  {
   "cell_type": "code",
   "execution_count": 13,
   "id": "81f96deb-b134-45ae-bc95-44badee79ec4",
   "metadata": {},
   "outputs": [
    {
     "name": "stdout",
     "output_type": "stream",
     "text": [
      "F-statistic: 196.8646\n",
      "P-value: 4.8371e-169\n"
     ]
    }
   ],
   "source": [
    "# Drop rows with missing Temp or Altitude-group\n",
    "combined_df = combined_df.dropna(subset=['Temp', 'Altitude-group'])\n",
    "\n",
    "# Group by Altitude-group and collect Temp values\n",
    "grouped_temps = [\n",
    "    group['Temp'].values\n",
    "    for name, group in combined_df.groupby('Altitude-group')\n",
    "]\n",
    "\n",
    "# Perform one-way ANOVA\n",
    "f_stat, p_value = f_oneway(*grouped_temps)\n",
    "\n",
    "# Output results\n",
    "print(f\"F-statistic: {f_stat:.4f}\")\n",
    "print(f\"P-value: {p_value:.4e}\")"
   ]
  },
  {
   "cell_type": "code",
   "execution_count": 14,
   "id": "c5fba29f-0662-4daf-8d66-bdffcef58a17",
   "metadata": {},
   "outputs": [
    {
     "name": "stderr",
     "output_type": "stream",
     "text": [
      "C:\\Users\\matey\\AppData\\Local\\Temp\\ipykernel_17952\\2689931703.py:2: SettingWithCopyWarning: \n",
      "A value is trying to be set on a copy of a slice from a DataFrame.\n",
      "Try using .loc[row_indexer,col_indexer] = value instead\n",
      "\n",
      "See the caveats in the documentation: https://pandas.pydata.org/pandas-docs/stable/user_guide/indexing.html#returning-a-view-versus-a-copy\n",
      "  combined_df['Altitude-group'] = combined_df['Altitude-group'].astype(str)\n"
     ]
    },
    {
     "name": "stdout",
     "output_type": "stream",
     "text": [
      " Multiple Comparison of Means - Tukey HSD, FWER=0.05  \n",
      "======================================================\n",
      " group1  group2 meandiff p-adj   lower   upper  reject\n",
      "------------------------------------------------------\n",
      "100-150 150-200  -0.4453    0.0 -0.5284 -0.3622   True\n",
      "100-150 200-250  -0.7513    0.0 -0.8314 -0.6713   True\n",
      "100-150 250-400  -0.5465    0.0 -0.6625 -0.4304   True\n",
      "100-150  50-100  -0.5099    0.0 -0.5916 -0.4283   True\n",
      "150-200 200-250  -0.3061    0.0 -0.4011  -0.211   True\n",
      "150-200 250-400  -0.1012 0.1887  -0.228  0.0256  False\n",
      "150-200  50-100  -0.0647 0.3558  -0.161  0.0317  False\n",
      "200-250 250-400   0.2049 0.0001    0.08  0.3298   True\n",
      "200-250  50-100   0.2414    0.0  0.1476  0.3352   True\n",
      "250-400  50-100   0.0365 0.9333 -0.0894  0.1624  False\n",
      "------------------------------------------------------\n"
     ]
    }
   ],
   "source": [
    "# Ensure Altitude-group is treated as a categorical variable\n",
    "combined_df['Altitude-group'] = combined_df['Altitude-group'].astype(str)\n",
    "\n",
    "# Run Tukey's HSD\n",
    "tukey_result = pairwise_tukeyhsd(\n",
    "    endog=combined_df['Temp'],\n",
    "    groups=combined_df['Altitude-group'],\n",
    "    alpha=0.05\n",
    ")\n",
    "\n",
    "# Print the summary table\n",
    "print(tukey_result.summary())"
   ]
  },
  {
   "cell_type": "code",
   "execution_count": 15,
   "id": "580657ba-3031-4dc8-9625-88279d6c7f29",
   "metadata": {},
   "outputs": [
    {
     "name": "stderr",
     "output_type": "stream",
     "text": [
      "C:\\Users\\matey\\AppData\\Local\\Temp\\ipykernel_2052\\1595353632.py:1: SettingWithCopyWarning: \n",
      "A value is trying to be set on a copy of a slice from a DataFrame.\n",
      "Try using .loc[row_indexer,col_indexer] = value instead\n",
      "\n",
      "See the caveats in the documentation: https://pandas.pydata.org/pandas-docs/stable/user_guide/indexing.html#returning-a-view-versus-a-copy\n",
      "  combined_df['Datetime'] = pd.to_datetime(combined_df['Datetime'])\n"
     ]
    },
    {
     "data": {
      "image/png": "[encoded data removed]",
      "text/plain": [
       "<Figure size 1000x600 with 1 Axes>"
      ]
     },
     "metadata": {},
     "output_type": "display_data"
    }
   ],
   "source": [
    "combined_df['Datetime'] = pd.to_datetime(combined_df['Datetime'])\n",
    "\n",
    "# Correct 2022 periods\n",
    "# periods = [\n",
    "#     ('2022-02-19', '2022-02-23'),\n",
    "#     ('2022-05-10', '2022-05-24'),\n",
    "#     ('2022-06-11', '2022-06-21'),\n",
    "#     ('2022-07-15', '2022-07-26'),\n",
    "#     ('2022-10-24', '2022-10-31')\n",
    "# ]\n",
    "\n",
    "periods = [\n",
    "     ('2022-06-11', '2022-06-21'),\n",
    "     ('2022-07-15', '2022-07-26')\n",
    "]\n",
    "\n",
    "# Apply filter\n",
    "mask = pd.Series(False, index=combined_df.index)\n",
    "for start, end in periods:\n",
    "    mask |= (combined_df['Datetime'] >= pd.to_datetime(start)) & (combined_df['Datetime'] <= pd.to_datetime(end))\n",
    "\n",
    "df_filtered = combined_df[mask].copy()\n",
    "\n",
    "# Ensure Altitude-group is treated as categorical with ordered levels\n",
    "altitude_order = sorted(df_filtered['Altitude-group'].dropna().unique(), key=lambda x: int(x.split('-')[0]))\n",
    "df_filtered['Altitude-group'] = pd.Categorical(df_filtered['Altitude-group'], categories=altitude_order, ordered=True)\n",
    "\n",
    "# Plot boxplot\n",
    "plt.figure(figsize=(10, 6))\n",
    "sns.boxplot(data=df_filtered, x='Altitude-group', y='Temp', palette='Set3', showfliers=False)\n",
    "\n",
    "plt.xlabel(\"Altitude Group (m)\", fontsize=12, weight='bold')\n",
    "plt.ylabel(\"Air Temperature (°C)\", fontsize=12, weight='bold')\n",
    "#plt.title(\"Air Temperature by Altitude Group (Selected Periods)\", fontsize=14, weight='bold')\n",
    "plt.grid(axis='y', linestyle='--', alpha=0.6)\n",
    "plt.tight_layout()\n",
    "\n",
    "# Save or show\n",
    "# plt.savefig(\"Tair_by_altitude_selected_periods.png\", dpi=600)\n",
    "plt.show()"
   ]
  },
  {
   "cell_type": "code",
   "execution_count": 16,
   "id": "c303a023-a78b-4dc8-b80f-8971d58c432a",
   "metadata": {},
   "outputs": [
    {
     "name": "stdout",
     "output_type": "stream",
     "text": [
      "                  min    max       mean       std\n",
      "Altitude-group                                   \n",
      "50-100          13.37  39.85  27.929718  4.690816\n",
      "100-150         12.53  39.30  28.693933  4.410270\n",
      "150-200         13.20  40.48  28.415430  4.712047\n",
      "200-250         13.25  38.70  28.219025  4.823495\n",
      "250-400         15.37  39.23  28.382417  4.499943\n"
     ]
    }
   ],
   "source": [
    "# Compute basic statistics for each altitude group\n",
    "stats_df = df_filtered.groupby('Altitude-group')['Temp'].agg(['min', 'max', 'mean', 'std'])\n",
    "\n",
    "print(stats_df)"
   ]
  },
  {
   "cell_type": "code",
   "execution_count": null,
   "id": "ce51fc16-017e-44cf-b46e-beba60718ad3",
   "metadata": {},
   "outputs": [],
   "source": []
  }
 ],
 "metadata": {
  "kernelspec": {
   "display_name": "Python 3 (ipykernel)",
   "language": "python",
   "name": "python3"
  },
  "language_info": {
   "codemirror_mode": {
    "name": "ipython",
    "version": 3
   },
   "file_extension": ".py",
   "mimetype": "text/x-python",
   "name": "python",
   "nbconvert_exporter": "python",
   "pygments_lexer": "ipython3",
   "version": "3.11.5"
  }
 },
 "nbformat": 4,
 "nbformat_minor": 5
}
