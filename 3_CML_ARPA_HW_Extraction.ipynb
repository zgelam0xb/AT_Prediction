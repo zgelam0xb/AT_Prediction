{
 "cells": [
  {
   "cell_type": "code",
   "execution_count": 1,
   "id": "7ca6f900-e265-4e43-b466-2bb409b1c136",
   "metadata": {},
   "outputs": [],
   "source": [
    "import pandas as pd\n",
    "import ipywidgets as widgets\n",
    "from ipywidgets import interactive, Output"
   ]
  },
  {
   "cell_type": "code",
   "execution_count": 2,
   "id": "9b90566d-7619-4df4-bada-cb7d648ac0c9",
   "metadata": {},
   "outputs": [],
   "source": [
    "arpa = pd.read_parquet(\"./Final_cleaned/ARPA_hourly_alt_corrected.parquet\")\n",
    "cml = pd.read_parquet(\"./Final_cleaned/CML_hourly_alt_corrected.parquet\")"
   ]
  },
  {
   "cell_type": "code",
   "execution_count": 3,
   "id": "57c669a4-d9ba-4333-a080-900a2b1d4a2c",
   "metadata": {},
   "outputs": [
    {
     "data": {
      "text/plain": [
       "(                  Datetime  Temp     Id                         station  \\\n",
       " 0      2022-01-01 01:00:00 -0.55   2001                 Milano Lambrate   \n",
       " 1      2022-01-01 02:00:00 -0.42   2001                 Milano Lambrate   \n",
       " 2      2022-01-01 03:00:00  0.68   2001                 Milano Lambrate   \n",
       " 3      2022-01-01 04:00:00  1.38   2001                 Milano Lambrate   \n",
       " 4      2022-01-01 05:00:00  0.75   2001                 Milano Lambrate   \n",
       " ...                    ...   ...    ...                             ...   \n",
       " 297835 2022-12-31 20:00:00  8.57  19426  Mariano Comense campo sportivo   \n",
       " 297836 2022-12-31 21:00:00  8.35  19426  Mariano Comense campo sportivo   \n",
       " 297837 2022-12-31 22:00:00  8.17  19426  Mariano Comense campo sportivo   \n",
       " 297838 2022-12-31 23:00:00  8.05  19426  Mariano Comense campo sportivo   \n",
       " 297839 2023-01-01 00:00:00  8.10  19426  Mariano Comense campo sportivo   \n",
       " \n",
       "               lat      long urban/natural  altitude1  Temp_corrected  \n",
       " 0       45.496780  9.257515       natural      121.5           -0.42  \n",
       " 1       45.496780  9.257515       natural      121.5           -0.29  \n",
       " 2       45.496780  9.257515       natural      121.5            0.81  \n",
       " 3       45.496780  9.257515       natural      121.5            1.51  \n",
       " 4       45.496780  9.257515       natural      121.5            0.88  \n",
       " ...           ...       ...           ...        ...             ...  \n",
       " 297835  45.684883  9.177769         urban      257.3            7.81  \n",
       " 297836  45.684883  9.177769         urban      257.3            7.59  \n",
       " 297837  45.684883  9.177769         urban      257.3            7.41  \n",
       " 297838  45.684883  9.177769         urban      257.3            7.29  \n",
       " 297839  45.684883  9.177769         urban      257.3            7.34  \n",
       " \n",
       " [297840 rows x 9 columns],\n",
       "                   Datetime      Temp        station        lat      long  \\\n",
       " 0      2022-01-01 01:00:00 -0.108333  abbiategrasso  45.381389  8.911667   \n",
       " 1      2022-01-01 02:00:00 -0.166667  abbiategrasso  45.381389  8.911667   \n",
       " 2      2022-01-01 03:00:00 -0.366667  abbiategrasso  45.381389  8.911667   \n",
       " 3      2022-01-01 04:00:00 -0.391667  abbiategrasso  45.381389  8.911667   \n",
       " 4      2022-01-01 05:00:00 -0.608333  abbiategrasso  45.381389  8.911667   \n",
       " ...                    ...       ...            ...        ...       ...   \n",
       " 551875 2022-12-31 20:00:00       NaN        zerbolo  45.227222  8.985000   \n",
       " 551876 2022-12-31 21:00:00       NaN        zerbolo  45.227222  8.985000   \n",
       " 551877 2022-12-31 22:00:00       NaN        zerbolo  45.227222  8.985000   \n",
       " 551878 2022-12-31 23:00:00       NaN        zerbolo  45.227222  8.985000   \n",
       " 551879 2023-01-01 00:00:00       NaN        zerbolo  45.227222  8.985000   \n",
       " \n",
       "                    Id urban/natural  altitude1  Temp_corrected  \n",
       " 0       abbiategrasso         urban      112.5            0.08  \n",
       " 1       abbiategrasso         urban      112.5            0.02  \n",
       " 2       abbiategrasso         urban      112.5           -0.18  \n",
       " 3       abbiategrasso         urban      112.5           -0.21  \n",
       " 4       abbiategrasso         urban      112.5           -0.42  \n",
       " ...               ...           ...        ...             ...  \n",
       " 551875        zerbolo         urban      102.0             NaN  \n",
       " 551876        zerbolo         urban      102.0             NaN  \n",
       " 551877        zerbolo         urban      102.0             NaN  \n",
       " 551878        zerbolo         urban      102.0             NaN  \n",
       " 551879        zerbolo         urban      102.0             NaN  \n",
       " \n",
       " [551880 rows x 9 columns])"
      ]
     },
     "execution_count": 3,
     "metadata": {},
     "output_type": "execute_result"
    }
   ],
   "source": [
    "arpa, cml"
   ]
  },
  {
   "cell_type": "markdown",
   "id": "0c64056c-4801-4faf-ba7c-fe3435fdd894",
   "metadata": {},
   "source": [
    "## Merge ARPA and CML into one df"
   ]
  },
  {
   "cell_type": "code",
   "execution_count": 4,
   "id": "8a014fa9-96a1-469d-b589-81640c573b4d",
   "metadata": {},
   "outputs": [],
   "source": [
    "arpa = arpa.drop(columns=['Id'])"
   ]
  },
  {
   "cell_type": "code",
   "execution_count": 5,
   "id": "8ff771ad-ef29-40cf-9060-1bbe0d7f0c32",
   "metadata": {},
   "outputs": [],
   "source": [
    "arpa['source'] = 'arpa'\n",
    "cml['source'] = 'cml'"
   ]
  },
  {
   "cell_type": "code",
   "execution_count": 6,
   "id": "c39d1de5-be4b-4cdf-8186-21e21f885189",
   "metadata": {},
   "outputs": [
    {
     "name": "stdout",
     "output_type": "stream",
     "text": [
      "             Datetime  Temp          station       lat      long  \\\n",
      "0 2022-01-01 01:00:00 -0.55  Milano Lambrate  45.49678  9.257515   \n",
      "1 2022-01-01 02:00:00 -0.42  Milano Lambrate  45.49678  9.257515   \n",
      "2 2022-01-01 03:00:00  0.68  Milano Lambrate  45.49678  9.257515   \n",
      "3 2022-01-01 04:00:00  1.38  Milano Lambrate  45.49678  9.257515   \n",
      "4 2022-01-01 05:00:00  0.75  Milano Lambrate  45.49678  9.257515   \n",
      "\n",
      "  urban/natural  altitude1  Temp_corrected source   Id  \n",
      "0       natural      121.5           -0.42   arpa  NaN  \n",
      "1       natural      121.5           -0.29   arpa  NaN  \n",
      "2       natural      121.5            0.81   arpa  NaN  \n",
      "3       natural      121.5            1.51   arpa  NaN  \n",
      "4       natural      121.5            0.88   arpa  NaN  \n"
     ]
    }
   ],
   "source": [
    "merged_df = pd.concat([arpa, cml], axis=0, ignore_index=True)\n",
    "print(merged_df.head())"
   ]
  },
  {
   "cell_type": "code",
   "execution_count": 7,
   "id": "b731632e-9f2b-470b-a27d-46445b41037e",
   "metadata": {},
   "outputs": [
    {
     "name": "stdout",
     "output_type": "stream",
     "text": [
      "Number of unique stations: 97\n"
     ]
    }
   ],
   "source": [
    "num_unique_stations = merged_df['station'].nunique()\n",
    "print(f\"Number of unique stations: {num_unique_stations}\")"
   ]
  },
  {
   "cell_type": "markdown",
   "id": "f21e4214-f8ac-4493-a18d-152893505a4b",
   "metadata": {},
   "source": [
    "## Filtering days and times"
   ]
  },
  {
   "cell_type": "code",
   "execution_count": 8,
   "id": "6f7ae717-ea99-4a51-be4d-37e7ef4ec416",
   "metadata": {},
   "outputs": [
    {
     "data": {
      "application/vnd.jupyter.widget-view+json": {
       "model_id": "d959f2ad53804a09960da42eb0f49a7b",
       "version_major": 2,
       "version_minor": 0
      },
      "text/plain": [
       "SelectMultiple(description='Days:', index=(1,), layout=Layout(width='50%'), options=(('All', 'all'), ('2022-01…"
      ]
     },
     "metadata": {},
     "output_type": "display_data"
    },
    {
     "data": {
      "application/vnd.jupyter.widget-view+json": {
       "model_id": "e38bda988e7943a0b6de7723d3a3774b",
       "version_major": 2,
       "version_minor": 0
      },
      "text/plain": [
       "SelectMultiple(description='Times:', index=(1,), layout=Layout(width='50%'), options=(('All', 'all'), ('00:00:…"
      ]
     },
     "metadata": {},
     "output_type": "display_data"
    },
    {
     "data": {
      "application/vnd.jupyter.widget-view+json": {
       "model_id": "c2cd74da2322418e98cde15f0410cf54",
       "version_major": 2,
       "version_minor": 0
      },
      "text/plain": [
       "Output()"
      ]
     },
     "metadata": {},
     "output_type": "display_data"
    }
   ],
   "source": [
    "# cml['Datetime'] = pd.to_datetime(cml['Datetime'])\n",
    "\n",
    "# Extract date and time from 'Datetime'\n",
    "merged_df['date_only'] = merged_df['Datetime'].dt.date\n",
    "merged_df['time_only'] = merged_df['Datetime'].dt.time\n",
    "\n",
    "# Get unique dates and times from the data\n",
    "unique_dates = sorted(merged_df['date_only'].unique())\n",
    "unique_times = sorted(merged_df['time_only'].unique())\n",
    "\n",
    "# Create widgets for selecting days and times\n",
    "day_dropdown = widgets.SelectMultiple(\n",
    "    options=[('All', 'all')] + [(str(i), i) for i in unique_dates],\n",
    "    value=[unique_dates[0]],  # default value\n",
    "    description='Days:',\n",
    "    style={'description_width': 'initial'},\n",
    "    layout=widgets.Layout(width='50%')\n",
    ")\n",
    "\n",
    "time_dropdown = widgets.SelectMultiple(\n",
    "    options=[('All', 'all')] + [(str(i), i) for i in unique_times],\n",
    "    value=[unique_times[0]],  # default value\n",
    "    description='Times:',\n",
    "    style={'description_width': 'initial'},\n",
    "    layout=widgets.Layout(width='50%')\n",
    ")\n",
    "\n",
    "# Create an Output widget to display results\n",
    "output = Output()\n",
    "\n",
    "# Store the filtered dataframe in a global variable so it can be accessed later\n",
    "filtered_data = None\n",
    "\n",
    "# Function to filter the DataFrame based on selected days and times\n",
    "def filter_by_day_and_time(selected_days, selected_times):\n",
    "    global filtered_data  # Declare filtered_data as global to store it for later use\n",
    "\n",
    "    # Clear previous output before showing new results\n",
    "    with output:\n",
    "        output.clear_output()\n",
    "\n",
    "        # Convert 'selected_days' and 'selected_times' to the appropriate format\n",
    "        if 'all' in selected_days:\n",
    "            selected_days = unique_dates  # Include all dates if 'all' is selected\n",
    "        if 'all' in selected_times:\n",
    "            selected_times = unique_times  # Include all times if 'all' is selected\n",
    "\n",
    "        # Filter the DataFrame based on selected days and times\n",
    "        filtered_data = merged_df[merged_df['date_only'].isin(selected_days) & merged_df['time_only'].isin(selected_times)]\n",
    "        \n",
    "        if filtered_data.empty:\n",
    "            print(\"No data available for selected filters.\")\n",
    "        else:\n",
    "            # Display the filtered DataFrame in the output\n",
    "            print(filtered_data)\n",
    "\n",
    "# Create an interactive output with the widgets\n",
    "interactive_output = interactive(filter_by_day_and_time, selected_days=day_dropdown, selected_times=time_dropdown)\n",
    "\n",
    "# Display the widgets and the output\n",
    "display(day_dropdown, time_dropdown, output)"
   ]
  },
  {
   "cell_type": "code",
   "execution_count": 146,
   "id": "b9e238f7-0dca-42ca-9872-489b8e0328fa",
   "metadata": {},
   "outputs": [],
   "source": [
    "#filtered_data"
   ]
  },
  {
   "cell_type": "code",
   "execution_count": 147,
   "id": "99e1b967-bb1d-4ddf-9e77-7bdae892616a",
   "metadata": {},
   "outputs": [],
   "source": [
    "# Calculate the number of NaNs and the total number of entries for each station\n",
    "nan_counts = filtered_data.groupby('station')['Temp_corrected'].apply(lambda x: x.isna().sum())\n",
    "total_counts = filtered_data.groupby('station')['Temp_corrected'].count()\n",
    "\n",
    "# Calculate the percentage of NaNs for each station\n",
    "nan_percentage = (nan_counts / (nan_counts + total_counts)) * 100\n",
    "\n",
    "# Calculate the average temperature with one decimal place\n",
    "station_avg_temp = filtered_data.groupby('station').agg(\n",
    "    avg_temp=('Temp_corrected', 'mean'),\n",
    "    lat=('lat', 'first'),\n",
    "    long=('long', 'first'),\n",
    "    source=('source', 'first')\n",
    ").reset_index()\n",
    "\n",
    "# Round avg_temp to one decimal\n",
    "station_avg_temp['avg_temp'] = station_avg_temp['avg_temp'].round(1)\n",
    "\n",
    "# Add the NaN percentage information\n",
    "station_avg_temp['nan_percentage'] = station_avg_temp['station'].map(nan_percentage)\n",
    "\n",
    "# Remove stations with too many NaNs (more than 20%)\n",
    "threshold = 21\n",
    "station_avg_temp_filtered = station_avg_temp[station_avg_temp['nan_percentage'] <= threshold]\n",
    "\n",
    "#print(station_avg_temp.to_string())\n",
    "# print(station_avg_temp_filtered)"
   ]
  },
  {
   "cell_type": "code",
   "execution_count": 148,
   "id": "57fa04d3-bb70-4070-b79d-134f77a904b9",
   "metadata": {},
   "outputs": [],
   "source": [
    "#station_avg_temp_filtered"
   ]
  },
  {
   "cell_type": "code",
   "execution_count": 149,
   "id": "c8b6ee4f-6fb4-4a3d-a535-670ff553ebe5",
   "metadata": {},
   "outputs": [],
   "source": [
    "# Export to csv\n",
    "# First we drop nan column\n",
    "station_avg_temp_filtered = station_avg_temp_filtered.drop(columns=['nan_percentage'])\n",
    "station_avg_temp_filtered.to_csv('./HW_extracted/alt_corr1/CML-ARPA_HP_Oct_2022_MUHI.csv', index=False)"
   ]
  },
  {
   "cell_type": "code",
   "execution_count": null,
   "id": "54e4b99c-8440-42bd-b9e8-8ca67437f04c",
   "metadata": {},
   "outputs": [],
   "source": []
  },
  {
   "cell_type": "code",
   "execution_count": null,
   "id": "ac5b54e1-c448-4e43-af8d-da12776fd346",
   "metadata": {},
   "outputs": [],
   "source": []
  },
  {
   "cell_type": "code",
   "execution_count": null,
   "id": "ef94053c-cc84-4ded-9912-ee0d005beb22",
   "metadata": {},
   "outputs": [],
   "source": []
  }
 ],
 "metadata": {
  "kernelspec": {
   "display_name": "Python 3 (ipykernel)",
   "language": "python",
   "name": "python3"
  },
  "language_info": {
   "codemirror_mode": {
    "name": "ipython",
    "version": 3
   },
   "file_extension": ".py",
   "mimetype": "text/x-python",
   "name": "python",
   "nbconvert_exporter": "python",
   "pygments_lexer": "ipython3",
   "version": "3.11.5"
  }
 },
 "nbformat": 4,
 "nbformat_minor": 5
}
